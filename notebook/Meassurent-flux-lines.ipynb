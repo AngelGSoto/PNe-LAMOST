{
 "cells": [
  {
   "cell_type": "code",
   "execution_count": 8,
   "id": "d6d1b4ae",
   "metadata": {},
   "outputs": [
    {
     "data": {
      "text/plain": [
       "<astropy.visualization.units.quantity_support.<locals>.MplQuantityConverter at 0x7f5843828dc0>"
      ]
     },
     "execution_count": 8,
     "metadata": {},
     "output_type": "execute_result"
    }
   ],
   "source": [
    "from astropy.io import fits\n",
    "from astropy import units as u\n",
    "import numpy as np\n",
    "from matplotlib import pyplot as plt\n",
    "from astropy.visualization import quantity_support\n",
    "from astropy.wcs import WCS\n",
    "# specutils packages\n",
    "from specutils import Spectrum1D\n",
    "from specutils.analysis import line_flux\n",
    "from specutils.fitting import fit_generic_continuum\n",
    "from specutils import SpectralRegion\n",
    "from specutils.analysis import equivalent_width\n",
    "from specutils.analysis import centroid\n",
    "from specutils.analysis import moment\n",
    "from specutils.manipulation import extract_region\n",
    "import warnings\n",
    "with warnings.catch_warnings():  # Ignore warnings\n",
    "    warnings.simplefilter('ignore')\n",
    "quantity_support()"
   ]
  },
  {
   "cell_type": "code",
   "execution_count": 9,
   "id": "f0a0d6ae",
   "metadata": {},
   "outputs": [],
   "source": [
    " \n",
    "hdu = fits.open(\"../Spectra-lamostdr7/spec-56581-VB031N50V1_sp08-218.fits\")\n",
    "hdudata = hdu[0].data\n",
    "wl = hdudata[2]\n",
    "Flux = hdudata[0]"
   ]
  },
  {
   "cell_type": "code",
   "execution_count": 10,
   "id": "6865f167",
   "metadata": {},
   "outputs": [
    {
     "data": {
      "text/latex": [
       "$\\mathrm{Relative~flux}$"
      ],
      "text/plain": [
       "Unit(\"Relative~flux\")"
      ]
     },
     "execution_count": 10,
     "metadata": {},
     "output_type": "execute_result"
    }
   ],
   "source": [
    "# Defining units astropy\n",
    "rel_flux = u.def_unit('Relative~flux')\n",
    "rel_flux.decompose()"
   ]
  },
  {
   "cell_type": "code",
   "execution_count": 11,
   "id": "496c901c",
   "metadata": {},
   "outputs": [],
   "source": [
    "lamb = wl * u.AA \n",
    "flux = Flux * rel_flux\n",
    "spec = Spectrum1D(spectral_axis=lamb, flux=flux) "
   ]
  },
  {
   "cell_type": "code",
   "execution_count": 12,
   "id": "42688362",
   "metadata": {},
   "outputs": [],
   "source": [
    "#Spliting the spectrum en blue and red part\n",
    "sub_region_blue = SpectralRegion(spec.spectral_axis.min(),  5800*u.AA)\n",
    "sub_region_red = SpectralRegion(5800*u.AA, spec.spectral_axis.max())\n",
    "sub_spectrum_blue = extract_region(spec, sub_region_blue)\n",
    "sub_spectrum_red = extract_region(spec, sub_region_red)"
   ]
  },
  {
   "cell_type": "code",
   "execution_count": 14,
   "id": "b9a84087",
   "metadata": {},
   "outputs": [],
   "source": [
    "# Subtracting the continuum\n",
    "with warnings.catch_warnings():  # Ignore warnings\n",
    "    warnings.simplefilter('ignore')\n",
    "    g1_fit_blue = fit_generic_continuum(sub_spectrum_blue)\n",
    "    g1_fit_red = fit_generic_continuum(sub_spectrum_red)\n",
    "y_continuum_fitted_blue = g1_fit_blue(sub_spectrum_blue.spectral_axis)\n",
    "spec_sub_blue = sub_spectrum_blue - y_continuum_fitted_blue\n",
    "y_continuum_fitted_red = g1_fit_red(sub_spectrum_red.spectral_axis)\n",
    "spec_sub_red = sub_spectrum_red - y_continuum_fitted_red\n",
    "\n",
    "spec_subtrated =  np.concatenate([spec_sub_blue.flux.value, spec_sub_red.flux.value])\n",
    "flux_sub = spec_subtrated * rel_flux\n",
    "spec_sub = Spectrum1D(spectral_axis=lamb, flux=flux_sub)"
   ]
  },
  {
   "cell_type": "code",
   "execution_count": 15,
   "id": "2e5ec5cc",
   "metadata": {},
   "outputs": [
    {
     "data": {
      "text/latex": [
       "$19336.675 \\; \\mathrm{\\mathring{A}\\,Relative~flux}$"
      ],
      "text/plain": [
       "<Quantity 19336.67464182 Angstrom Relative~flux>"
      ]
     },
     "execution_count": 15,
     "metadata": {},
     "output_type": "execute_result"
    }
   ],
   "source": [
    "line_flux(spec_sub, regions=SpectralRegion(6556 * u.AA,  6569* u.AA))  "
   ]
  },
  {
   "cell_type": "code",
   "execution_count": 20,
   "id": "9a83bc2b",
   "metadata": {},
   "outputs": [
    {
     "data": {
      "text/latex": [
       "$623.76827 \\; \\mathrm{\\mathring{A}\\,Relative~flux}$"
      ],
      "text/plain": [
       "<Quantity 623.76827131 Angstrom Relative~flux>"
      ]
     },
     "execution_count": 20,
     "metadata": {},
     "output_type": "execute_result"
    }
   ],
   "source": [
    "line_flux(spec_sub, regions=SpectralRegion((5411.094 - 3) * u.AA,  (5411.094 + 3)* u.AA))  "
   ]
  },
  {
   "cell_type": "code",
   "execution_count": null,
   "id": "fd5ee211",
   "metadata": {},
   "outputs": [],
   "source": []
  }
 ],
 "metadata": {
  "kernelspec": {
   "display_name": "Python 3 (ipykernel)",
   "language": "python",
   "name": "python3"
  },
  "language_info": {
   "codemirror_mode": {
    "name": "ipython",
    "version": 3
   },
   "file_extension": ".py",
   "mimetype": "text/x-python",
   "name": "python",
   "nbconvert_exporter": "python",
   "pygments_lexer": "ipython3",
   "version": "3.8.5"
  }
 },
 "nbformat": 4,
 "nbformat_minor": 5
}
