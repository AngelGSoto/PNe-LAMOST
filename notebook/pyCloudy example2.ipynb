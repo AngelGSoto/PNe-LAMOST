{
 "cells": [
  {
   "cell_type": "markdown",
   "id": "1bfc7cde",
   "metadata": {},
   "source": [
    "Taken from [Morisset](https://github.com/Morisset/pyCloudy/blob/master/pyCloudy/docs/Using_pyCloudy_2.ipynb)"
   ]
  },
  {
   "cell_type": "code",
   "execution_count": 1,
   "id": "488cc31b",
   "metadata": {},
   "outputs": [],
   "source": [
    "%matplotlib inline\n",
    "import numpy as np\n",
    "import matplotlib.pyplot as plt\n",
    "import os\n",
    "home_dir = os.environ['HOME'] + '/'"
   ]
  },
  {
   "cell_type": "code",
   "execution_count": 2,
   "id": "052a10d7",
   "metadata": {},
   "outputs": [
    {
     "name": "stderr",
     "output_type": "stream",
     "text": [
      "/home/luis/anaconda3/lib/python3.8/site-packages/pyfits/__init__.py:21: PyFITSDeprecationWarning: PyFITS is deprecated, please use astropy.io.fits\n",
      "  warnings.warn('PyFITS is deprecated, please use astropy.io.fits',\n"
     ]
    }
   ],
   "source": [
    "import pyCloudy as pc"
   ]
  },
  {
   "cell_type": "code",
   "execution_count": 11,
   "id": "194a7647",
   "metadata": {},
   "outputs": [],
   "source": [
    "# Changing the location and version of the cloudy executable.\n",
    "pc.config.cloudy_exe =  '../../../../../../home/luis/c22.01//source/cloudy.exe'"
   ]
  },
  {
   "cell_type": "code",
   "execution_count": 12,
   "id": "3303c996",
   "metadata": {},
   "outputs": [],
   "source": [
    "# We define a function that will manage the input files of Cloudy. \n",
    "# This allow to easily change some parameters, very usefull to do a grid.\n",
    "def make_model(dir_, model_name, dens, ab_O):\n",
    "    full_model_name = '{0}_{1:.0f}_{2:.2f}'.format(model_name, dens, ab_O)\n",
    "    r_min = 5e16\n",
    "    dist = 1.26\n",
    "    Teff = 45000\n",
    "    qH = 47.\n",
    "    options = ('no molecules',\n",
    "                'no level2 lines',\n",
    "                'no fine opacities',\n",
    "                'atom h-like levels small',\n",
    "                'atom he-like levels small',\n",
    "                'COSMIC RAY BACKGROUND',\n",
    "                'element limit off -8',\n",
    "                )\n",
    "    emis_tab = ['H  1  4861.33A',\n",
    "            'H  1  6562.81A',\n",
    "            'Ca B  5875.64A',\n",
    "            'N  2  6583.45A',\n",
    "            'O  1  6300.30A',\n",
    "            'O  2  3726.03A',\n",
    "            'O  2  3728.81A',\n",
    "            'O  3  5006.84A',\n",
    "            'BLND  4363.00A',\n",
    "            'S  2  6716.44A',\n",
    "            'S  2  6730.82A',\n",
    "            'Cl 3  5517.71A',\n",
    "            'Cl 3  5537.87A',\n",
    "            'O  1  63.1679m',\n",
    "            'O  1  145.495m',\n",
    "            'C  2  157.636m']\n",
    "    abund = {'He' : -0.92, 'C' : -3.15, 'N' : -4.0, 'Ne' : -4.00, \n",
    "             'S' : -5.35, 'Ar' : -5.80, 'Fe' : -7.4, 'Cl' : -7.00}\n",
    "    abund['O'] = ab_O\n",
    "    # Defining the object that will manage the input file for Cloudy\n",
    "    c_input = pc.CloudyInput('{0}{1}'.format(dir_, full_model_name))\n",
    "    # Filling the object with the parameters\n",
    "    # Defining the ionizing SED: Effective temperature and luminosity.\n",
    "    # The lumi_unit is one of the Cloudy options, like \"luminosity solar\", \"q(H)\", \"ionization parameter\", etc... \n",
    "    c_input.set_BB(Teff = Teff, lumi_unit = 'q(h)', lumi_value = qH)\n",
    "    # Defining the density. You may also use set_dlaw(parameters) if you have a density law defined in dense_fabden.cpp.\n",
    "    c_input.set_cste_density(dens)\n",
    "    # Defining the inner radius. A second parameter would be the outer radius (matter-bounded nebula).\n",
    "    c_input.set_radius(np.log10(r_min))\n",
    "    c_input.set_abund(ab_dict = abund, nograins = True)\n",
    "    c_input.set_other(options)\n",
    "    c_input.set_iterate() # (0) for no iteration, () for one iteration, (N) for N iterations.\n",
    "    c_input.set_sphere() # () or (True) : sphere, or (False): open geometry.\n",
    "    c_input.set_emis_tab(emis_tab)\n",
    "    c_input.set_distance(dist, 'kpc')\n",
    "    c_input.print_input(to_file = True, verbose = False)"
   ]
  },
  {
   "cell_type": "code",
   "execution_count": 13,
   "id": "85338005",
   "metadata": {},
   "outputs": [],
   "source": [
    "# The directory in which we will have the model\n",
    "# You may want to change this to a different place so that the current directory\n",
    "# will not receive all the Cloudy files.\n",
    "dir_ = '../tmp/models/'"
   ]
  },
  {
   "cell_type": "code",
   "execution_count": 14,
   "id": "43dfca68",
   "metadata": {},
   "outputs": [],
   "source": [
    "#writing the makefile in the directory dir_\n",
    "pc.print_make_file(dir_ = dir_)"
   ]
  },
  {
   "cell_type": "code",
   "execution_count": 15,
   "id": "57f5ab45",
   "metadata": {},
   "outputs": [],
   "source": [
    "# setting verbosity to medium level, change to 3 for high verbosity\n",
    "pc.log_.level = 2"
   ]
  },
  {
   "cell_type": "code",
   "execution_count": 16,
   "id": "7d23ec70",
   "metadata": {},
   "outputs": [],
   "source": [
    "# Generic name of the models\n",
    "model_name = 'model_2'"
   ]
  },
  {
   "cell_type": "code",
   "execution_count": 17,
   "id": "d6818a20",
   "metadata": {},
   "outputs": [],
   "source": [
    "# tables for the values of the density and the log(O/H)\n",
    "tab_dens = [3, 4, 5, 6]\n",
    "tab_ab_O = [-3.1, -3.25, -3.4, -3.55, -3.7]"
   ]
  },
  {
   "cell_type": "code",
   "execution_count": 18,
   "id": "f0e6e1bb",
   "metadata": {},
   "outputs": [],
   "source": [
    "# defining the models and writing 20 input files\n",
    "for dens in tab_dens:\n",
    "    for ab_O in tab_ab_O:\n",
    "        make_model(dir_, model_name, dens, ab_O)\n"
   ]
  },
  {
   "cell_type": "code",
   "execution_count": 19,
   "id": "877127af",
   "metadata": {},
   "outputs": [],
   "source": [
    "# Running the models using the makefile and n_proc processors\n",
    "n_proc = 8\n",
    "# Take, care, this will run 20 cloudy models on 8 processors! May take some time. \n",
    "# If you run all the models togeter (n_proc = 20), you will need 10 Go RAM.\n",
    "pc.run_cloudy(dir_ = dir_, n_proc = n_proc, model_name = model_name, use_make = True)"
   ]
  },
  {
   "cell_type": "code",
   "execution_count": 20,
   "id": "fbe5cd8c",
   "metadata": {},
   "outputs": [],
   "source": [
    "# reading the Cloudy outputs and putting them in a list of CloudyModel objects\n",
    "Ms = pc.load_models('{0}{1}'.format(dir_, model_name), read_grains = False)"
   ]
  },
  {
   "cell_type": "code",
   "execution_count": 21,
   "id": "dcf7348c",
   "metadata": {},
   "outputs": [],
   "source": [
    "#Computing line intensity ratios \n",
    "rO3 = [np.log10(M.get_emis_vol('O__3_500684A')/M.get_emis_vol('BLND_436300A')) for M in Ms]\n",
    "rO2 = [np.log10(M.get_emis_vol('O__2_372603A')/M.get_emis_vol('O__2_372881A')) for M in Ms]"
   ]
  },
  {
   "cell_type": "code",
   "execution_count": 22,
   "id": "321a8c1b",
   "metadata": {},
   "outputs": [],
   "source": [
    "# defining the colors associated to the Oxygen abundances\n",
    "col = [M.abund['O'] for M in Ms]"
   ]
  },
  {
   "cell_type": "code",
   "execution_count": 23,
   "id": "4ec9a860",
   "metadata": {},
   "outputs": [],
   "source": [
    "# defining the size as the density (at the first step, but in these models it's constant)\n",
    "#size = [np.log10(M.nH[0])*20 for M in Ms]\n",
    "size = [40*(5+M.log_U_mean) for M in Ms]"
   ]
  },
  {
   "cell_type": "code",
   "execution_count": 24,
   "id": "ce8f8482",
   "metadata": {},
   "outputs": [
    {
     "data": {
      "image/png": "[encoded data removed]",
      "text/plain": [
       "<Figure size 720x720 with 2 Axes>"
      ]
     },
     "metadata": {
      "needs_background": "light"
     },
     "output_type": "display_data"
    }
   ],
   "source": [
    "plt.figure(figsize=(10,10))\n",
    "plt.scatter(rO2, rO3, c=col, s=size, edgecolors = 'none')\n",
    "plt.xlabel('log [OII] 3726/3729')\n",
    "plt.ylabel('log [OIII] 5007/4363')\n",
    "cb = plt.colorbar()\n",
    "cb.set_label('log(O/H)')\n",
    "plt.title('Size -> logU');"
   ]
  },
  {
   "cell_type": "code",
   "execution_count": null,
   "id": "95fc0e2b",
   "metadata": {},
   "outputs": [],
   "source": []
  }
 ],
 "metadata": {
  "kernelspec": {
   "display_name": "Python 3 (ipykernel)",
   "language": "python",
   "name": "python3"
  },
  "language_info": {
   "codemirror_mode": {
    "name": "ipython",
    "version": 3
   },
   "file_extension": ".py",
   "mimetype": "text/x-python",
   "name": "python",
   "nbconvert_exporter": "python",
   "pygments_lexer": "ipython3",
   "version": "3.8.5"
  }
 },
 "nbformat": 4,
 "nbformat_minor": 5
}
