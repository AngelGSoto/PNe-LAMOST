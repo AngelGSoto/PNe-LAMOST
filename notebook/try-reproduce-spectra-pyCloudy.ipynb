{
 "cells": [
  {
   "cell_type": "code",
   "execution_count": 1,
   "id": "43d78be4",
   "metadata": {},
   "outputs": [
    {
     "name": "stderr",
     "output_type": "stream",
     "text": [
      "/home/luis/anaconda3/lib/python3.8/site-packages/pyfits/__init__.py:21: PyFITSDeprecationWarning: PyFITS is deprecated, please use astropy.io.fits\n",
      "  warnings.warn('PyFITS is deprecated, please use astropy.io.fits',\n"
     ]
    }
   ],
   "source": [
    "%matplotlib inline\n",
    "import numpy as np\n",
    "from astropy.table import Table\n",
    "import matplotlib.pyplot as plt\n",
    "import os\n",
    "home_dir = os.environ['HOME'] + '/'\n",
    "import pyCloudy as pc"
   ]
  },
  {
   "cell_type": "code",
   "execution_count": 2,
   "id": "8373e533",
   "metadata": {},
   "outputs": [],
   "source": [
    "# Define verbosity to high level (will print errors, warnings and messages)\n",
    "pc.log_.level = 3"
   ]
  },
  {
   "cell_type": "code",
   "execution_count": 3,
   "id": "28345f88",
   "metadata": {},
   "outputs": [],
   "source": [
    "# The directory in which we will have the model\n",
    "# You may want to change this to a different place so that the current directory\n",
    "# will not receive all the Cloudy files.\n",
    "dir_ = '../Model-PNNew/models/'"
   ]
  },
  {
   "cell_type": "code",
   "execution_count": 4,
   "id": "9cd3962b",
   "metadata": {},
   "outputs": [],
   "source": [
    "# Define some parameters of the model:\n",
    "model_name = 'model_1'\n",
    "full_model_name = '{0}{1}'.format(dir_, model_name)\n",
    "dens = 3.4771212547196626 #log cm-3 (3000 cm^-3)\n",
    "Teff = 130000. #K\n",
    "qH = 37.5842 #s-1\n",
    "r_min = 8.e16  #cm\n",
    "dist = 2.31300952 #kpc (from gaia  Bailer-Jones C.A.L.)"
   ]
  },
  {
   "cell_type": "code",
   "execution_count": 5,
   "id": "29554dbc",
   "metadata": {},
   "outputs": [],
   "source": [
    "# these are the commands common to all the models (here only one ...)\n",
    "options = ('set save resolving power 1800',)"
   ]
  },
  {
   "cell_type": "code",
   "execution_count": 6,
   "id": "e16cafc0",
   "metadata": {},
   "outputs": [],
   "source": [
    "emis_tab = ['H  1  4861.33A',\n",
    "            'H  1  6562.81A',\n",
    "            'Ca B  5875.64A',\n",
    "            'N  2  6583.45A',\n",
    "            'O  1  6300.30A',\n",
    "            'O  2  3726.03A',\n",
    "            'O  2  3728.81A',\n",
    "            'O  3  5006.84A',\n",
    "            'BLND  4363.00A',\n",
    "            'S  2  6716.44A',\n",
    "            'S  2  6730.82A',\n",
    "            'Cl 3  5517.71A',\n",
    "            'Cl 3  5537.87A',\n",
    "            'O  1  63.1679m',\n",
    "            'O  1  145.495m',\n",
    "            'C  2  157.636m']\n"
   ]
  },
  {
   "cell_type": "code",
   "execution_count": 7,
   "id": "7868ae83",
   "metadata": {},
   "outputs": [],
   "source": [
    "abund = {'He' : -1.02, 'C' : -4.8, 'N' : -4.41, 'O' : 3.88, 'Ne' : -4.8, \n",
    "         'Si' : -5, 'S' : -5.4, 'Ar' : -6.23, 'Fe' : -20, 'Cl' : -20}"
   ]
  },
  {
   "cell_type": "code",
   "execution_count": 8,
   "id": "eea56f09",
   "metadata": {},
   "outputs": [],
   "source": [
    "# Defining the object that will manage the input file for Cloudy\n",
    "c_input = pc.CloudyInput(full_model_name)"
   ]
  },
  {
   "cell_type": "code",
   "execution_count": 9,
   "id": "12bd26fc",
   "metadata": {},
   "outputs": [],
   "source": [
    "# Filling the object with the parameters\n",
    "# Defining the ionizing SED: Effective temperature and luminosity.\n",
    "# The lumi_unit is one of the Cloudy options, like \"luminosity solar\", \"q(H)\", \"ionization parameter\", etc... \n",
    "c_input.set_BB(Teff = Teff, lumi_unit = 'q(H)', lumi_value = qH)"
   ]
  },
  {
   "cell_type": "code",
   "execution_count": 10,
   "id": "4fc4266d",
   "metadata": {},
   "outputs": [],
   "source": [
    "# Defining the density. You may also use set_dlaw(parameters) if you have a density law defined in dense_fabden.cpp.\n",
    "c_input.set_cste_density(dens)"
   ]
  },
  {
   "cell_type": "code",
   "execution_count": 11,
   "id": "41194ef5",
   "metadata": {},
   "outputs": [],
   "source": [
    "# Defining the inner radius. A second parameter would be the outer radius (matter-bounded nebula).\n",
    "c_input.set_radius(r_in=np.log10(r_min))\n",
    "c_input.set_abund(ab_dict = abund, nograins = True)\n",
    "c_input.set_other(options)\n",
    "c_input.set_iterate() # (0) for no iteration, () for one iteration, (N) for N iterations.\n",
    "c_input.set_sphere() # () or (True) : sphere, or (False): open geometry.\n",
    "c_input.set_emis_tab(emis_tab) # better use read_emis_file(file) for long list of lines, where file is an external file.\n",
    "c_input.set_distance(dist=dist, unit='kpc', linear=True) # unit can be 'kpc', 'Mpc', 'parsecs', 'cm'. If linear=False, the distance is in log."
   ]
  },
  {
   "cell_type": "code",
   "execution_count": 12,
   "id": "c0738986",
   "metadata": {},
   "outputs": [
    {
     "name": "stdout",
     "output_type": "stream",
     "text": [
      "     CloudyInput: Input writen in ../Model-PNNew/models/model_1.in\n"
     ]
    }
   ],
   "source": [
    "# Writing the Cloudy inputs. to_file for writing to a file (named by full_model_name). verbose to print on the screen.\n",
    "c_input.print_input(to_file = True, verbose = False)"
   ]
  },
  {
   "cell_type": "code",
   "execution_count": 13,
   "id": "86c231a4",
   "metadata": {},
   "outputs": [
    {
     "name": "stdout",
     "output_type": "stream",
     "text": [
      "     test1: Running model_1\n"
     ]
    }
   ],
   "source": [
    "# Printing some message to the screen\n",
    "pc.log_.message('Running {0}'.format(model_name), calling = 'test1')"
   ]
  },
  {
   "cell_type": "code",
   "execution_count": 14,
   "id": "28ccf9f6",
   "metadata": {},
   "outputs": [
    {
     "name": "stdout",
     "output_type": "stream",
     "text": [
      "     _Config: cloudy_exe set to ../../../../../home/luis/Cloudy/source/cloudy.exe\n"
     ]
    }
   ],
   "source": [
    "# Tell pyCloudy where your cloudy executable is:\n",
    "pc.config.cloudy_exe = '../../../../../home/luis/Cloudy/source/cloudy.exe'"
   ]
  },
  {
   "cell_type": "code",
   "execution_count": 15,
   "id": "e4655204",
   "metadata": {},
   "outputs": [
    {
     "name": "stdout",
     "output_type": "stream",
     "text": [
      "     run_cloudy: running:  ../../../../../home/luis/Cloudy/source/cloudy.exe -p model_1\n",
      "     run_cloudy: ending:  ../../../../../home/luis/Cloudy/source/cloudy.exe -p model_1\n",
      "   test1: Cloudy ended after seconds: in 0.009640693664550781\n"
     ]
    },
    {
     "name": "stderr",
     "output_type": "stream",
     "text": [
      "/bin/sh: 1: ../../../../../home/luis/Cloudy/source/cloudy.exe: not found\n"
     ]
    }
   ],
   "source": [
    "# Running Cloudy with a timer. Here we reset it to 0.\n",
    "pc.log_.timer('Starting Cloudy', quiet = True, calling = 'test1')\n",
    "c_input.run_cloudy()\n",
    "pc.log_.timer('Cloudy ended after seconds:', calling = 'test1')"
   ]
  },
  {
   "cell_type": "code",
   "execution_count": 16,
   "id": "61956d6c",
   "metadata": {},
   "outputs": [
    {
     "name": "stdout",
     "output_type": "stream",
     "text": [
      "     CloudyModel ../Model-PNNew/models/model_1: Creating CloudyModel for ../Model-PNNew/models/model_1\n",
      "     CloudyModel ../Model-PNNew/models/model_1: Li abundance not defined\n",
      "     CloudyModel ../Model-PNNew/models/model_1: Be abundance not defined\n",
      "     CloudyModel ../Model-PNNew/models/model_1: B abundance not defined\n",
      "     CloudyModel ../Model-PNNew/models/model_1: Cl abundance not defined\n",
      "     CloudyModel ../Model-PNNew/models/model_1: Sc abundance not defined\n",
      "     CloudyModel ../Model-PNNew/models/model_1: Fe abundance not defined\n",
      "     CloudyModel ../Model-PNNew/models/model_1: ../Model-PNNew/models/model_1.rad read\n",
      "     CloudyModel ../Model-PNNew/models/model_1: Number of zones: 1\n",
      "     CloudyModel ../Model-PNNew/models/model_1: ../Model-PNNew/models/model_1.phy read\n",
      "     CloudyModel ../Model-PNNew/models/model_1: ../Model-PNNew/models/model_1.ele_H read\n",
      "     CloudyModel ../Model-PNNew/models/model_1: filling H with 3 columns\n",
      "     CloudyModel ../Model-PNNew/models/model_1: ../Model-PNNew/models/model_1.ele_He read\n",
      "     CloudyModel ../Model-PNNew/models/model_1: filling He with 3 columns\n",
      "     CloudyModel ../Model-PNNew/models/model_1: ../Model-PNNew/models/model_1.ele_C read\n",
      "     CloudyModel ../Model-PNNew/models/model_1: filling C with 13 columns\n",
      "     CloudyModel ../Model-PNNew/models/model_1: ../Model-PNNew/models/model_1.ele_N read\n",
      "     CloudyModel ../Model-PNNew/models/model_1: filling N with 8 columns\n",
      "     CloudyModel ../Model-PNNew/models/model_1: ../Model-PNNew/models/model_1.ele_O read\n",
      "     CloudyModel ../Model-PNNew/models/model_1: filling O with 12 columns\n",
      "     CloudyModel ../Model-PNNew/models/model_1: ../Model-PNNew/models/model_1.ele_Ne read\n",
      "     CloudyModel ../Model-PNNew/models/model_1: filling Ne with 11 columns\n",
      "     CloudyModel ../Model-PNNew/models/model_1: ../Model-PNNew/models/model_1.ele_Ar read\n",
      "     CloudyModel ../Model-PNNew/models/model_1: filling Ar with 19 columns\n",
      "     CloudyModel ../Model-PNNew/models/model_1: ../Model-PNNew/models/model_1.ele_S read\n",
      "     CloudyModel ../Model-PNNew/models/model_1: filling S with 17 columns\n",
      "     CloudyModel ../Model-PNNew/models/model_1: ../Model-PNNew/models/model_1.ele_Cl read\n",
      "     None: File ele_Cl not read\n",
      "     CloudyModel ../Model-PNNew/models/model_1: ../Model-PNNew/models/model_1.ele_Fe read\n",
      "     None: File ele_Fe not read\n",
      "     CloudyModel ../Model-PNNew/models/model_1: ../Model-PNNew/models/model_1.ele_Si read\n",
      "     CloudyModel ../Model-PNNew/models/model_1: filling Si with 15 columns\n",
      "     CloudyModel ../Model-PNNew/models/model_1: ../Model-PNNew/models/model_1.emis read\n",
      "     CloudyModel ../Model-PNNew/models/model_1: Number of emissivities: 16\n",
      "     CloudyModel ../Model-PNNew/models/model_1: ../Model-PNNew/models/model_1.cont read\n"
     ]
    }
   ],
   "source": [
    "# Reading the Cloudy outputs in the Mod CloudyModel object\n",
    "Mod = pc.CloudyModel(full_model_name)"
   ]
  },
  {
   "cell_type": "code",
   "execution_count": 17,
   "id": "9f08cfe3",
   "metadata": {},
   "outputs": [
    {
     "data": {
      "text/plain": [
       "['C3D_comments',\n",
       " 'H0_mass',\n",
       " 'H_mass',\n",
       " 'H_mass_cut',\n",
       " 'H_mass_full',\n",
       " 'Hbeta',\n",
       " 'Hbeta_cut',\n",
       " 'Hbeta_full',\n",
       " 'Hbeta_label',\n",
       " 'Hp_mass',\n",
       " 'Phi',\n",
       " 'Phi0',\n",
       " 'Q',\n",
       " 'Q0',\n",
       " 'T0',\n",
       " 'Teff',\n",
       " '_CloudyModel__H_mass_cut',\n",
       " '_CloudyModel__Hbeta_cut',\n",
       " '_CloudyModel__r_in_cut',\n",
       " '_CloudyModel__r_out_cut',\n",
       " '__class__',\n",
       " '__delattr__',\n",
       " '__dict__',\n",
       " '__dir__',\n",
       " '__doc__',\n",
       " '__eq__',\n",
       " '__format__',\n",
       " '__ge__',\n",
       " '__getattribute__',\n",
       " '__gt__',\n",
       " '__hash__',\n",
       " '__init__',\n",
       " '__init_subclass__',\n",
       " '__le__',\n",
       " '__lt__',\n",
       " '__module__',\n",
       " '__ne__',\n",
       " '__new__',\n",
       " '__reduce__',\n",
       " '__reduce_ex__',\n",
       " '__repr__',\n",
       " '__setattr__',\n",
       " '__sizeof__',\n",
       " '__str__',\n",
       " '__subclasshook__',\n",
       " '__weakref__',\n",
       " '_get_H_mass_cut',\n",
       " '_get_Hbeta_cut',\n",
       " '_get_over_range',\n",
       " '_get_r_in_cut',\n",
       " '_get_r_out_cut',\n",
       " '_i_emis',\n",
       " '_i_line',\n",
       " '_init_abunds',\n",
       " '_init_all2zero',\n",
       " '_init_cont',\n",
       " '_init_emis',\n",
       " '_init_grains',\n",
       " '_init_heatcool',\n",
       " '_init_ionic',\n",
       " '_init_lin',\n",
       " '_init_opd',\n",
       " '_init_phy',\n",
       " '_init_pressure',\n",
       " '_init_rad',\n",
       " '_l_emis',\n",
       " '_quiet_div',\n",
       " '_r_out_cut_doc',\n",
       " '_read_stout',\n",
       " '_res',\n",
       " '_set_H_mass_cut',\n",
       " '_set_Hbeta_cut',\n",
       " '_set_r_in_cut',\n",
       " '_set_r_out_cut',\n",
       " 'aborted',\n",
       " 'abund',\n",
       " 'abunds',\n",
       " 'abunds_full',\n",
       " 'add_emis_from_pyneb',\n",
       " 'calling',\n",
       " 'cautions',\n",
       " 'cloudy_version',\n",
       " 'cloudy_version_major',\n",
       " 'comments',\n",
       " 'cool',\n",
       " 'cool_full',\n",
       " 'date_model',\n",
       " 'depth',\n",
       " 'depth_full',\n",
       " 'distance',\n",
       " 'dr',\n",
       " 'dr_full',\n",
       " 'drff',\n",
       " 'dv',\n",
       " 'dv_full',\n",
       " 'dvff',\n",
       " 'emis_from_pyneb',\n",
       " 'emis_full',\n",
       " 'emis_is_log',\n",
       " 'emis_labels',\n",
       " 'emis_labels_13',\n",
       " 'emis_labels_17',\n",
       " 'empty_model',\n",
       " 'ff',\n",
       " 'ff_full',\n",
       " 'gabund',\n",
       " 'gabund_full',\n",
       " 'gabund_labels',\n",
       " 'gas_mass_per_H',\n",
       " 'gasize',\n",
       " 'gdgrat',\n",
       " 'gdgrat_full',\n",
       " 'gdgrat_labels',\n",
       " 'gdsize',\n",
       " 'get_EW',\n",
       " 'get_EW2',\n",
       " 'get_G0',\n",
       " 'get_Ha_EW',\n",
       " 'get_Hb_EW',\n",
       " 'get_Hb_SB',\n",
       " 'get_T0_emis',\n",
       " 'get_T0_emis_rad',\n",
       " 'get_T0_ion_rad',\n",
       " 'get_T0_ion_rad_ne',\n",
       " 'get_T0_ion_vol',\n",
       " 'get_T0_ion_vol_ne',\n",
       " 'get_ab_ion_rad',\n",
       " 'get_ab_ion_rad_ne',\n",
       " 'get_ab_ion_vol',\n",
       " 'get_ab_ion_vol_ne',\n",
       " 'get_cont_x',\n",
       " 'get_cont_y',\n",
       " 'get_emis',\n",
       " 'get_emis_rad',\n",
       " 'get_emis_vol',\n",
       " 'get_integ_spec',\n",
       " 'get_interp_cont',\n",
       " 'get_ionic',\n",
       " 'get_line',\n",
       " 'get_ne_emis',\n",
       " 'get_ne_ion_rad_ne',\n",
       " 'get_ne_ion_vol_ne',\n",
       " 'get_t2_emis',\n",
       " 'get_t2_ion_rad_ne',\n",
       " 'get_t2_ion_vol_ne',\n",
       " 'gmass',\n",
       " 'gsize',\n",
       " 'gtemp',\n",
       " 'gtemp_full',\n",
       " 'gtemp_labels',\n",
       " 'heat',\n",
       " 'heat_full',\n",
       " 'info',\n",
       " 'intens',\n",
       " 'ionic_full',\n",
       " 'ionic_names',\n",
       " 'is_valid_ion',\n",
       " 'line_is_log',\n",
       " 'lines',\n",
       " 'liste_elem',\n",
       " 'log_',\n",
       " 'log_U',\n",
       " 'log_U_mean',\n",
       " 'log_U_mean_ne',\n",
       " 'model_name',\n",
       " 'model_name_s',\n",
       " 'nH',\n",
       " 'nH_full',\n",
       " 'nH_mean',\n",
       " 'nHff_full',\n",
       " 'n_elements',\n",
       " 'n_emis',\n",
       " 'n_gabund',\n",
       " 'n_gdgrat',\n",
       " 'n_gtemp',\n",
       " 'n_ions',\n",
       " 'n_lines',\n",
       " 'n_zones',\n",
       " 'n_zones_full',\n",
       " 'ne',\n",
       " 'ne_full',\n",
       " 'nenH',\n",
       " 'nenH_full',\n",
       " 'nenHff2_full',\n",
       " 'opd_absorp',\n",
       " 'opd_energy',\n",
       " 'opd_scat',\n",
       " 'opd_total',\n",
       " 'out',\n",
       " 'out_exists',\n",
       " 'phi',\n",
       " 'plan_par',\n",
       " 'plot_spectrum',\n",
       " 'pressure_full',\n",
       " 'print_lines',\n",
       " 'print_stats',\n",
       " 'r_in',\n",
       " 'r_in_cut',\n",
       " 'r_out',\n",
       " 'r_out_cut',\n",
       " 'r_range',\n",
       " 'rad_integ',\n",
       " 'rad_mean',\n",
       " 'radius',\n",
       " 'radius_full',\n",
       " 'read_outputs',\n",
       " 'rlines',\n",
       " 'slines',\n",
       " 't2',\n",
       " 'te',\n",
       " 'te_full',\n",
       " 'tenenH',\n",
       " 'tenenH_full',\n",
       " 'theta',\n",
       " 'thickness',\n",
       " 'thickness_full',\n",
       " 'vol_integ',\n",
       " 'vol_mean',\n",
       " 'warnings',\n",
       " 'zones',\n",
       " 'zones_full']"
      ]
     },
     "execution_count": 17,
     "metadata": {},
     "output_type": "execute_result"
    }
   ],
   "source": [
    "# Use TAB to know all the methods and variables for CloudyModel class\n",
    "# Mod.TAB\n",
    "dir(Mod) # This is the online answering way\n",
    "# Description of this class is available here: http://pythonhosted.org//pyCloudy/classpy_cloudy_1_1c1d_1_1cloudy__model_1_1_cloudy_model.html"
   ]
  },
  {
   "cell_type": "code",
   "execution_count": 18,
   "id": "99311909",
   "metadata": {},
   "outputs": [
    {
     "name": "stdout",
     "output_type": "stream",
     "text": [
      " Name of the model: ../Model-PNNew/models/model_1\n",
      " R_in (cut) = 7.998e+16 (7.998e+16), R_out (cut) = 7.998e+16 (7.998e+16)\n",
      " H+ mass = 1.45e-14, H mass = 1.04e-12 N zones: 1\n",
      " <H+/H> = 0.01, <He++/He> = 0.00, <He+/He> = 0.00\n",
      " <O+++/O> = 0.00, <O++/O> = 0.00, <O+/O> = 0.00\n",
      " <N+++/N> = 0.00, <N++/N> = 0.00, <N+/N> = 0.00\n",
      " T(O+++) = nan, T(O++) = 20, T(O+) = 20\n",
      " <ne> = 66,  <nH> = 2999, T0 = 20, t2=0.0000\n",
      " <log U> = -11.28\n"
     ]
    }
   ],
   "source": [
    "Mod.print_stats()"
   ]
  },
  {
   "cell_type": "code",
   "execution_count": 19,
   "id": "ed756a05",
   "metadata": {},
   "outputs": [
    {
     "data": {
      "text/plain": [
       "5.639999999999999e-15"
      ]
     },
     "execution_count": 19,
     "metadata": {},
     "output_type": "execute_result"
    }
   ],
   "source": [
    "Mod.get_ab_ion_vol_ne('O',2)"
   ]
  },
  {
   "cell_type": "code",
   "execution_count": 30,
   "id": "c298b21f",
   "metadata": {},
   "outputs": [
    {
     "data": {
      "image/png": "[encoded data removed]",
      "text/plain": [
       "<Figure size 720x720 with 1 Axes>"
      ]
     },
     "metadata": {
      "needs_background": "light"
     },
     "output_type": "display_data"
    }
   ],
   "source": [
    "plt.figure(figsize=(10,10))\n",
    "plt.loglog(Mod.get_cont_x(unit='Ang'), Mod.get_cont_y(cont = 'incid', unit = 'esAc'), label = 'Incident')\n",
    "plt.loglog(Mod.get_cont_x(unit='Ang'), Mod.get_cont_y(cont = 'diffout', unit = 'esAc'), label = 'Diff Out')\n",
    "plt.loglog(Mod.get_cont_x(unit='Ang'), Mod.get_cont_y(cont = 'total', unit = 'esAc'), label = 'total')\n",
    "plt.xlim((3500, 9000))\n",
    "#plt.ylim((1e-21, 1e-9))\n",
    "plt.xlabel('Angstrom')\n",
    "plt.ylabel('ergs/cm2/s/ang')\n",
    "plt.legend(loc=4);"
   ]
  },
  {
   "cell_type": "code",
   "execution_count": 33,
   "id": "5952a41e",
   "metadata": {},
   "outputs": [],
   "source": [
    "wl = Mod.get_cont_x(unit='Ang')\n",
    "flux = Mod.get_cont_y(cont = 'total', unit = 'esAc')\n",
    "#Ordered lambda and flux \n",
    "wll, flux = zip(*sorted(zip(wl, flux)))"
   ]
  },
  {
   "cell_type": "code",
   "execution_count": 47,
   "id": "55da0c6a",
   "metadata": {},
   "outputs": [],
   "source": [
    "data = Table([wll, flux], names=('Wl', 'Flux'), meta={'name': 'first table'})\n",
    "mask = (data[\"Wl\"] > 3000) & (data[\"Flux\"] < 9000)\n",
    "data_mask = data[mask]"
   ]
  },
  {
   "cell_type": "code",
   "execution_count": 38,
   "id": "19304ae3",
   "metadata": {},
   "outputs": [],
   "source": [
    "data.write(\"../Model-PNNew/teste.dat\", format=\"ascii\", overwrite=True)"
   ]
  },
  {
   "cell_type": "code",
   "execution_count": 49,
   "id": "7a0bdbc4",
   "metadata": {},
   "outputs": [
    {
     "name": "stderr",
     "output_type": "stream",
     "text": [
      "No handles with labels found to put in legend.\n"
     ]
    },
    {
     "data": {
      "image/png": "[encoded data removed]",
      "text/plain": [
       "<Figure size 720x720 with 1 Axes>"
      ]
     },
     "metadata": {
      "needs_background": "light"
     },
     "output_type": "display_data"
    }
   ],
   "source": [
    "plt.figure(figsize=(10,10))\n",
    "plt.plot(data_mask[\"Wl\"], data_mask[\"Flux\"])#, label = 'total')\n",
    "plt.xlim((3500, 9000))\n",
    "#plt.ylim((-0.1, 10e-9))\n",
    "plt.xlabel('Angstrom')\n",
    "plt.ylabel('ergs/cm2/s/ang')\n",
    "plt.legend(loc=4);"
   ]
  },
  {
   "cell_type": "markdown",
   "id": "4eacea82",
   "metadata": {},
   "source": [
    "# Our PN and the model"
   ]
  },
  {
   "cell_type": "code",
   "execution_count": 72,
   "id": "251eb77e",
   "metadata": {},
   "outputs": [],
   "source": [
    "from astropy.io import fits\n",
    "import numpy as np\n",
    "hdu = fits.open(\"../Spectra-lamostdr7/spec-56581-VB031N50V1_sp08-218.fits\")\n",
    "hdudata = hdu[0].data"
   ]
  },
  {
   "cell_type": "code",
   "execution_count": 73,
   "id": "90700dc7",
   "metadata": {},
   "outputs": [],
   "source": [
    "wl = hdudata[2]\n",
    "Flux = hdudata[0]"
   ]
  },
  {
   "cell_type": "code",
   "execution_count": 74,
   "id": "cf4a2cc9",
   "metadata": {},
   "outputs": [
    {
     "name": "stderr",
     "output_type": "stream",
     "text": [
      "No handles with labels found to put in legend.\n"
     ]
    },
    {
     "data": {
      "image/png": "[encoded data removed]",
      "text/plain": [
       "<Figure size 720x720 with 1 Axes>"
      ]
     },
     "metadata": {
      "needs_background": "light"
     },
     "output_type": "display_data"
    }
   ],
   "source": [
    "plt.figure(figsize=(10,10))\n",
    "plt.plot(wl, Flux)#, label = 'total')\n",
    "plt.xlim((3500, 9000))\n",
    "#plt.ylim((-0.1, 10e-9))\n",
    "plt.xlabel('Angstrom')\n",
    "plt.ylabel('Normalized flux')\n",
    "plt.legend(loc=4);"
   ]
  },
  {
   "cell_type": "markdown",
   "id": "cbdcfe50",
   "metadata": {},
   "source": [
    "Normalized with Hbeta"
   ]
  },
  {
   "cell_type": "code",
   "execution_count": 75,
   "id": "65e5f178",
   "metadata": {},
   "outputs": [
    {
     "data": {
      "text/html": [
       "<div><i>Table length=1</i>\n",
       "<table id=\"table140156015541504\" class=\"table-striped table-bordered table-condensed\">\n",
       "<thead><tr><th>Wl</th><th>Flux</th></tr></thead>\n",
       "<thead><tr><th>float64</th><th>float64</th></tr></thead>\n",
       "<tr><td>4865.722198762915</td><td>4.501267169353754e-24</td></tr>\n",
       "</table></div>"
      ],
      "text/plain": [
       "<Table length=1>\n",
       "        Wl                 Flux        \n",
       "     float64             float64       \n",
       "----------------- ---------------------\n",
       "4865.722198762915 4.501267169353754e-24"
      ]
     },
     "execution_count": 75,
     "metadata": {},
     "output_type": "execute_result"
    }
   ],
   "source": [
    "#the model\n",
    "mask_Hbeta_ = data_mask[\"Wl\"] == 4865.722198762915\n",
    "Hbeta_ = data_mask[mask_Hbeta_]\n",
    "Hbeta_"
   ]
  },
  {
   "cell_type": "code",
   "execution_count": 77,
   "id": "d06151d9",
   "metadata": {},
   "outputs": [],
   "source": [
    "def closest(lst, K):\n",
    "    '''find the closest number'''\n",
    "    lst = np.array(lst)\n",
    "    idx = (np.abs(lst - K)).argmin()\n",
    "    return lst[idx]"
   ]
  },
  {
   "cell_type": "code",
   "execution_count": 78,
   "id": "2eef77fe",
   "metadata": {},
   "outputs": [],
   "source": [
    "wl_hbeta = closest(data_mask[\"Wl\"], 4861.333)"
   ]
  },
  {
   "cell_type": "code",
   "execution_count": 83,
   "id": "c7482277",
   "metadata": {},
   "outputs": [
    {
     "data": {
      "text/html": [
       "<div><i>Table length=1</i>\n",
       "<table id=\"table140156015541072\" class=\"table-striped table-bordered table-condensed\">\n",
       "<thead><tr><th>Wl</th><th>Flux</th></tr></thead>\n",
       "<thead><tr><th>float64</th><th>float64</th></tr></thead>\n",
       "<tr><td>4865.722198762915</td><td>4.501267169353754e-24</td></tr>\n",
       "</table></div>"
      ],
      "text/plain": [
       "<Table length=1>\n",
       "        Wl                 Flux        \n",
       "     float64             float64       \n",
       "----------------- ---------------------\n",
       "4865.722198762915 4.501267169353754e-24"
      ]
     },
     "execution_count": 83,
     "metadata": {},
     "output_type": "execute_result"
    }
   ],
   "source": [
    "MaskHbeta = data_mask[\"Wl\"] == wl_hbeta\n",
    "HBeta = data_mask[MaskHbeta]\n",
    "HBeta"
   ]
  },
  {
   "cell_type": "code",
   "execution_count": 93,
   "id": "dfd253b9",
   "metadata": {},
   "outputs": [],
   "source": [
    "flux_m = data_mask[\"Flux\"] / HBeta[\"Flux\"]"
   ]
  },
  {
   "cell_type": "code",
   "execution_count": 94,
   "id": "935bb024",
   "metadata": {},
   "outputs": [],
   "source": [
    "# Our PN\n",
    "wl_hbeta_our = closest(wl, 4861.333)"
   ]
  },
  {
   "cell_type": "code",
   "execution_count": 95,
   "id": "854fba7d",
   "metadata": {},
   "outputs": [
    {
     "data": {
      "text/plain": [
       "array([1963.5988], dtype=float32)"
      ]
     },
     "execution_count": 95,
     "metadata": {},
     "output_type": "execute_result"
    }
   ],
   "source": [
    "MaskHbeta_our = wl == wl_hbeta_our\n",
    "flux_HBeta_our = Flux[MaskHbeta_our]\n",
    "flux_HBeta_our"
   ]
  },
  {
   "cell_type": "code",
   "execution_count": 96,
   "id": "0fe9d596",
   "metadata": {},
   "outputs": [],
   "source": [
    "flux_our = Flux / flux_HBeta_our"
   ]
  },
  {
   "cell_type": "code",
   "execution_count": 98,
   "id": "5946b14b",
   "metadata": {},
   "outputs": [
    {
     "name": "stderr",
     "output_type": "stream",
     "text": [
      "No handles with labels found to put in legend.\n"
     ]
    },
    {
     "data": {
      "image/png": "[encoded data removed]",
      "text/plain": [
       "<Figure size 720x720 with 1 Axes>"
      ]
     },
     "metadata": {
      "needs_background": "light"
     },
     "output_type": "display_data"
    }
   ],
   "source": [
    "plt.figure(figsize=(10,10))\n",
    "plt.plot(data_mask[\"Wl\"], flux_m)#, label = 'total')\n",
    "plt.plot(wl, flux_our)#, label = 'total')\n",
    "plt.xlim((3500, 9000))\n",
    "#plt.ylim((-0.1, 10e-9))\n",
    "plt.xlabel('Angstrom')\n",
    "plt.ylabel('Normalized flux')\n",
    "plt.legend(loc=4);"
   ]
  },
  {
   "cell_type": "code",
   "execution_count": null,
   "id": "40d5dd83",
   "metadata": {},
   "outputs": [],
   "source": []
  }
 ],
 "metadata": {
  "kernelspec": {
   "display_name": "Python 3 (ipykernel)",
   "language": "python",
   "name": "python3"
  },
  "language_info": {
   "codemirror_mode": {
    "name": "ipython",
    "version": 3
   },
   "file_extension": ".py",
   "mimetype": "text/x-python",
   "name": "python",
   "nbconvert_exporter": "python",
   "pygments_lexer": "ipython3",
   "version": "3.8.5"
  }
 },
 "nbformat": 4,
 "nbformat_minor": 5
}
