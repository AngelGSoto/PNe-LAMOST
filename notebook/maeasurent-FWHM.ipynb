{
 "cells": [
  {
   "cell_type": "code",
   "execution_count": 1,
   "id": "b817c15c",
   "metadata": {},
   "outputs": [
    {
     "data": {
      "text/plain": [
       "<astropy.visualization.units.quantity_support.<locals>.MplQuantityConverter at 0x7f165a70d580>"
      ]
     },
     "execution_count": 1,
     "metadata": {},
     "output_type": "execute_result"
    }
   ],
   "source": [
    "from astropy.io import fits\n",
    "from astropy import units as u\n",
    "import numpy as np\n",
    "from matplotlib import pyplot as plt\n",
    "from astropy.visualization import quantity_support\n",
    "from astropy.wcs import WCS\n",
    "# specutils packages\n",
    "from specutils import Spectrum1D\n",
    "from specutils.analysis import line_flux\n",
    "from specutils.fitting import fit_generic_continuum\n",
    "from specutils import SpectralRegion\n",
    "from specutils.analysis import equivalent_width\n",
    "from specutils.analysis import centroid\n",
    "from specutils.analysis import moment\n",
    "from specutils.manipulation import extract_region\n",
    "from specutils.fitting import find_lines_threshold\n",
    "from specutils.analysis import gaussian_sigma_width, gaussian_fwhm, fwhm, fwzi\n",
    "import warnings\n",
    "with warnings.catch_warnings():  # Ignore warnings\n",
    "    warnings.simplefilter('ignore')\n",
    "quantity_support()"
   ]
  },
  {
   "cell_type": "code",
   "execution_count": 2,
   "id": "79238731",
   "metadata": {},
   "outputs": [],
   "source": [
    "# OUR PN\n",
    "hdu = fits.open(\"../Spectra-lamostdr7/spec-56581-VB031N50V1_sp08-218.fits\")\n",
    "hdudata = hdu[0].data\n",
    "wl = hdudata[2]\n",
    "Flux = hdudata[0]"
   ]
  },
  {
   "cell_type": "code",
   "execution_count": 3,
   "id": "35f16f6e",
   "metadata": {},
   "outputs": [
    {
     "data": {
      "text/latex": [
       "$\\mathrm{Relative~flux}$"
      ],
      "text/plain": [
       "Unit(\"Relative~flux\")"
      ]
     },
     "execution_count": 3,
     "metadata": {},
     "output_type": "execute_result"
    }
   ],
   "source": [
    "# Defining units astropy\n",
    "rel_flux = u.def_unit('Relative~flux')\n",
    "rel_flux.decompose()"
   ]
  },
  {
   "cell_type": "code",
   "execution_count": 4,
   "id": "990365e7",
   "metadata": {},
   "outputs": [],
   "source": [
    "lamb = wl * u.AA \n",
    "flux = Flux * rel_flux\n",
    "spec = Spectrum1D(spectral_axis=lamb, flux=flux) "
   ]
  },
  {
   "cell_type": "code",
   "execution_count": 5,
   "id": "d3201ba1",
   "metadata": {},
   "outputs": [],
   "source": [
    "def closest(lst, K):\n",
    "    '''find the closest number'''\n",
    "    lst = np.array(lst)\n",
    "    idx = (np.abs(lst - K)).argmin()\n",
    "    return lst[idx]\n",
    "\n",
    "def find_line(wl_vacuum, spec):\n",
    "    '''\n",
    "    This function find the line\n",
    "    in a wavelenght range\n",
    "    '''\n",
    "    line_region = SpectralRegion((wl_vacuum-15)*u.AA, (wl_vacuum+15)*u.AA)\n",
    "    line_spec = extract_region(spec, line_region)\n",
    "    with warnings.catch_warnings():  # Ignore warnings\n",
    "        warnings.simplefilter('ignore')\n",
    "        line_spec = find_lines_threshold(line_spec, noise_factor = 3) # find the lines\n",
    "        print(\"Number of line found:\", len(line_spec))\n",
    "    if len(line_spec) > 1:\n",
    "        wl_line = closest(line_spec['line_center'].value, wl_vacuum)\n",
    "        mask = line_spec['line_center'].value == wl_line\n",
    "        line_spec_mask = line_spec[mask]\n",
    "    else:\n",
    "        line_spec_mask = line_spec\n",
    "    return line_spec_mask"
   ]
  },
  {
   "cell_type": "code",
   "execution_count": 6,
   "id": "edef5d87",
   "metadata": {},
   "outputs": [],
   "source": [
    "from specutils.analysis import centroid\n",
    "def cal_fwhm(wl_vacuum, spec):\n",
    "    line_spec_mask = find_line(wl_vacuum,  spec)\n",
    "    line_region_ = SpectralRegion(line_spec_mask['line_center'] - 5 * u.AA, \n",
    "                                  line_spec_mask['line_center'] + 5 * u.AA)\n",
    "    centr = centroid(spec, line_region_)\n",
    "    line_region_centr = SpectralRegion(centr - 5 * u.AA, centr + 5 * u.AA)\n",
    "    sub_spectrum_line = extract_region(spec, line_region_centr)\n",
    "    fwhm_ = gaussian_fwhm(sub_spectrum_line)\n",
    "    return fwhm_"
   ]
  },
  {
   "cell_type": "code",
   "execution_count": 7,
   "id": "fa2751e6",
   "metadata": {},
   "outputs": [],
   "source": [
    "lines = {\"[NeIII]+H7\": 3967.470,\n",
    "         \"Hdelta\": 4101.742,\n",
    "         \"Hgamma\": 4340.471,\n",
    "         \"HeII\": 4685.99,\n",
    "         \"Hbeta\": 4861.333,\n",
    "         \"[OIII]4958\": 4958.911,\n",
    "         \"[OIII]5006\": 5006.843,\n",
    "         \"[FeIII]\": 5412.12,\n",
    "         \"Halpha\": 6564.614,\n",
    "         }"
   ]
  },
  {
   "cell_type": "code",
   "execution_count": 8,
   "id": "619a2d1a",
   "metadata": {},
   "outputs": [
    {
     "name": "stdout",
     "output_type": "stream",
     "text": [
      "Number of line found: 7\n",
      "Number of line found: 4\n",
      "Number of line found: 3\n",
      "Number of line found: 1\n",
      "Number of line found: 1\n",
      "Number of line found: 1\n",
      "Number of line found: 1\n",
      "Number of line found: 1\n",
      "Number of line found: 1\n"
     ]
    }
   ],
   "source": [
    "#Estimating the flux line for the models\n",
    "v_ = []\n",
    "fw = []\n",
    "c = 3.e5\n",
    "for vv, tt in lines.items():\n",
    "    fwhmm = cal_fwhm(tt, spec)\n",
    "    v = (c * fwhmm.value) / tt\n",
    "    fw.append(fwhmm)\n",
    "    v_.append(v)\n",
    "    "
   ]
  },
  {
   "cell_type": "code",
   "execution_count": 9,
   "id": "7c7e49d9",
   "metadata": {},
   "outputs": [
    {
     "name": "stdout",
     "output_type": "stream",
     "text": [
      "[392.80983459119346, 292.7831925725172, 257.2463180573366, 220.2023049238924, 219.0074588148655, 237.7750868238413, 201.71564171619613, 259.79165760766637, 195.81415694728292] [<Quantity 5.19487078e-13 Angstrom>, <Quantity 4.00307039e-13 Angstrom>, <Quantity 3.72190061e-13 Angstrom>, <Quantity 3.43955266e-13 Angstrom>, <Quantity 3.54889396e-13 Angstrom>, <Quantity 3.93035165e-13 Angstrom>, <Quantity 3.3665285e-13 Angstrom>, <Quantity 4.68674542e-13 Angstrom>, <Quantity 4.28481452e-13 Angstrom>]\n"
     ]
    }
   ],
   "source": [
    "print(v_, fw)"
   ]
  },
  {
   "cell_type": "code",
   "execution_count": 10,
   "id": "dde8e9c9",
   "metadata": {},
   "outputs": [
    {
     "data": {
      "text/plain": [
       "253.01618356164352"
      ]
     },
     "execution_count": 10,
     "metadata": {},
     "output_type": "execute_result"
    }
   ],
   "source": [
    "np.mean(v_)"
   ]
  },
  {
   "cell_type": "code",
   "execution_count": null,
   "id": "be9150cc",
   "metadata": {},
   "outputs": [],
   "source": []
  },
  {
   "cell_type": "code",
   "execution_count": null,
   "id": "900b99d5",
   "metadata": {},
   "outputs": [],
   "source": []
  }
 ],
 "metadata": {
  "kernelspec": {
   "display_name": "Python 3 (ipykernel)",
   "language": "python",
   "name": "python3"
  },
  "language_info": {
   "codemirror_mode": {
    "name": "ipython",
    "version": 3
   },
   "file_extension": ".py",
   "mimetype": "text/x-python",
   "name": "python",
   "nbconvert_exporter": "python",
   "pygments_lexer": "ipython3",
   "version": "3.8.5"
  }
 },
 "nbformat": 4,
 "nbformat_minor": 5
}
