{
 "cells": [
  {
   "cell_type": "code",
   "execution_count": 1,
   "id": "fa80c3d6",
   "metadata": {},
   "outputs": [],
   "source": [
    "import glob\n",
    "from astropy.io import fits\n",
    "import matplotlib.pyplot as plt"
   ]
  },
  {
   "cell_type": "code",
   "execution_count": 2,
   "id": "a64eec15",
   "metadata": {},
   "outputs": [],
   "source": [
    "g = glob.glob('../True-PN-DR7LAMOST/*.g.fits')\n",
    "r = glob.glob('../True-PN-DR7LAMOST/*.r.fits')\n",
    "i = glob.glob('../True-PN-DR7LAMOST/*.i.fits')"
   ]
  },
  {
   "cell_type": "code",
   "execution_count": 3,
   "id": "8be78c03",
   "metadata": {},
   "outputs": [],
   "source": [
    "# Open a file in write mode\n",
    "with open('../True-PN-DR7LAMOST/rgb-images.run', 'w') as file:\n",
    "    for j, k, m in zip(sorted(i), sorted(r), sorted(g)):\n",
    "        # Redirect the print statement to the file\n",
    "        print(\"python ../programs/rgb_image-ps1-denoise.py {} {} {} --debug\".format(j.split(\"T/\")[-1].split(\".f\")[0].split(\".f\")[0], k.split(\"T/\")[-1].split(\".f\")[0], m.split(\"T/\")[-1].split(\".f\")[0]), file=file)\n",
    "    "
   ]
  },
  {
   "cell_type": "code",
   "execution_count": null,
   "id": "cd4dba91",
   "metadata": {},
   "outputs": [],
   "source": []
  },
  {
   "cell_type": "code",
   "execution_count": null,
   "id": "8d8cf892",
   "metadata": {},
   "outputs": [],
   "source": []
  }
 ],
 "metadata": {
  "kernelspec": {
   "display_name": "Python 3 (ipykernel)",
   "language": "python",
   "name": "python3"
  },
  "language_info": {
   "codemirror_mode": {
    "name": "ipython",
    "version": 3
   },
   "file_extension": ".py",
   "mimetype": "text/x-python",
   "name": "python",
   "nbconvert_exporter": "python",
   "pygments_lexer": "ipython3",
   "version": "3.8.5"
  }
 },
 "nbformat": 4,
 "nbformat_minor": 5
}
