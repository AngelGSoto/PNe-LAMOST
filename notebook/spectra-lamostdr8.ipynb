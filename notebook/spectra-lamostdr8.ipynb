{
 "cells": [
  {
   "cell_type": "code",
   "execution_count": 1,
   "id": "ea842bae",
   "metadata": {},
   "outputs": [
    {
     "data": {
      "text/plain": [
       "<astropy.visualization.units.quantity_support.<locals>.MplQuantityConverter at 0x7f2739693b20>"
      ]
     },
     "execution_count": 1,
     "metadata": {},
     "output_type": "execute_result"
    }
   ],
   "source": [
    "from astropy.io import fits\n",
    "from astropy import units as u\n",
    "import numpy as np\n",
    "from matplotlib import pyplot as plt\n",
    "from astropy.visualization import quantity_support\n",
    "from astropy.wcs import WCS\n",
    "# specutils packages\n",
    "from specutils import Spectrum1D\n",
    "from specutils.analysis import line_flux\n",
    "from specutils.fitting import fit_generic_continuum\n",
    "from specutils import SpectralRegion\n",
    "from specutils.analysis import equivalent_width\n",
    "from specutils.analysis import centroid\n",
    "from specutils.analysis import moment\n",
    "from specutils.manipulation import extract_region\n",
    "import warnings\n",
    "with warnings.catch_warnings():  # Ignore warnings\n",
    "    warnings.simplefilter('ignore')\n",
    "quantity_support()"
   ]
  },
  {
   "cell_type": "code",
   "execution_count": 24,
   "id": "0dcaceb7",
   "metadata": {},
   "outputs": [],
   "source": [
    "hdu = fits.open(\"../True-PN/spec-55960-GAC_071N47_V1_sp05-062.fits\")\n",
    "hdudata = hdu[1].data\n",
    "wl = hdudata[\"WAVELENGTH\"][0]\n",
    "Flux = hdudata[\"FLUX\"][0]"
   ]
  },
  {
   "cell_type": "code",
   "execution_count": 25,
   "id": "253a5382",
   "metadata": {},
   "outputs": [
    {
     "data": {
      "text/plain": [
       "array([  0.     ,   0.     ,   0.     , ..., 862.2385 , 909.4269 ,\n",
       "       836.73145], dtype=float32)"
      ]
     },
     "execution_count": 25,
     "metadata": {},
     "output_type": "execute_result"
    }
   ],
   "source": [
    "Flux"
   ]
  },
  {
   "cell_type": "code",
   "execution_count": 26,
   "id": "92c49f51",
   "metadata": {},
   "outputs": [
    {
     "data": {
      "text/plain": [
       "[<matplotlib.lines.Line2D at 0x7f276130d8e0>]"
      ]
     },
     "execution_count": 26,
     "metadata": {},
     "output_type": "execute_result"
    },
    {
     "data": {
      "image/png": "[encoded data removed]",
      "text/plain": [
       "<Figure size 640x480 with 1 Axes>"
      ]
     },
     "metadata": {},
     "output_type": "display_data"
    }
   ],
   "source": [
    "plt.plot(wl, Flux)"
   ]
  },
  {
   "cell_type": "code",
   "execution_count": 31,
   "id": "6c349dc0",
   "metadata": {},
   "outputs": [
    {
     "data": {
      "text/plain": [
       "SIMPLE  =                    T /Primary Header created by MWRFITS v1.11b        \n",
       "BITPIX  =                   16 /                                                \n",
       "NAXIS   =                    0 / Number of array dimensions                     \n",
       "NAXIS1  =                 3749 /                                                \n",
       "NAXIS2  =                    5 /                                                \n",
       "EXTEND  =                    T /                                                \n",
       "                                                                                \n",
       "COMMENT --------FILE INFORMATION                                                \n",
       "FILENAME= 'spec-55960-GAC_071N47_V1_sp05-062.fits' /                            \n",
       "OBSID   =             36805062 / Unique number ID of this spectrum              \n",
       "AUTHOR  = 'LAMOST Pipeline'    / Who compiled the information                   \n",
       "DATA_V  = 'LAMOST DR8'         / Data release version                           \n",
       "N_EXTEN =                    2 / The amount of extension                        \n",
       "NORM    =                    0 / 1 if there exists a normalizated spectrum      \n",
       "ORIGIN  = 'NAOC-LAMOST'        / Organization responsible for creating this file\n",
       "DATE    = '2022-09-14T11:42:47' / Time when this HDU is created (UTC)           \n",
       "COMMENT --------TELESCOPE PARAMETERS                                            \n",
       "TELESCOP= 'LAMOST  '           / GuoShouJing Telescope                          \n",
       "LONGITUD=               117.58 / [deg] Longitude of site                        \n",
       "LATITUDE=                40.39 / [deg] Latitude of site                         \n",
       "FOCUS   =                19964 / [mm] Telescope focus                           \n",
       "CAMPRO  = 'NEWCAM  '           / Camera program name                            \n",
       "CAMVER  = 'v2.0    '           / Camera program version                         \n",
       "COMMENT --------OBSERVATION PARAMETERS                                          \n",
       "DATE-OBS= '2012-02-02T12:48:00' / The observation median UTC                    \n",
       "DATE-BEG= '2012-02-02T20:33:58.0' / The observation start local time            \n",
       "DATE-END= '2012-02-02T21:04:02.0' / The observation end local time              \n",
       "LMJD    =                55960 / Local Modified Julian Day                      \n",
       "MJD     =                55959 / Modified Julian Day                            \n",
       "LMJMLIST= '80582201-80582217'  / Local Modified Julian Minute list              \n",
       "PLANID  = 'GAC_071N47_V1'      / Plan ID in use                                 \n",
       "RA      =            70.838698 / [deg] Right ascension of object                \n",
       "DEC     =            46.701582 / [deg] Declination of object                    \n",
       "RA_OBS  =            70.838698 / [deg] Right ascension during observing         \n",
       "DEC_OBS =            46.701582 / [deg] Declination during observing             \n",
       "OFFSET  =                    F / Whether there's a offset during observing      \n",
       "OFFSET_V=                 0.00 / Offset value in arcsecond                      \n",
       "DESIG   = 'LAMOST J044321.28+464205.6' / Designation of LAMOST target           \n",
       "FIBERID =                   62 / Fiber ID of Object                             \n",
       "CELL_ID = 'E2828   '           / Fiber Unit ID on the focal plane               \n",
       "X_VALUE = '121.7512859680'     / [mm] X coordinate of object on the focal plane \n",
       "Y_VALUE = '270.5341147180'     / [mm] Y coordinate of object on the focal plane \n",
       "OBJNAME = 'X1367-017603'       / Name of object                                 \n",
       "OBJTYPE = 'star    '           / Object type from input catalog                 \n",
       "TSOURCE = 'PILOT   '           / Name of input catalog                          \n",
       "TCOMMENT= 'XY0445+4728_V1'     / Target information                             \n",
       "TFROM   = '-       '           / Target catalog                                 \n",
       "FIB_TYPE= 'Obj     '           / Fiber type of object                           \n",
       "MAG_PS_G=              -999.00 / [mag] Magnitude of object                      \n",
       "MAG_PS_R=              -999.00 / [mag] Magnitude of object                      \n",
       "MAG_PS_I=              -999.00 / [mag] Magnitude of object                      \n",
       "MAG_PS_Z=                19.35 / [mag] Magnitude of object                      \n",
       "MAG_PS_Y=              -999.00 / [mag] Magnitude of object                      \n",
       "OBS_TYPE= 'OBJ     '           / The type of target (OBJ, FLAT, ARC or BIAS)    \n",
       "OBSCOMM = 'Science '           / Science or Test                                \n",
       "RADECSYS= 'FK5     '           / Equatorial coordinate system                   \n",
       "EQUINOX =              2000.00 / Equinox in years                               \n",
       "LAMPLIST= 'lamphgcdne.dat'     / Arc lamp emission line list                    \n",
       "SKYLIST = 'skylines.dat'       / Sky emission line list                         \n",
       "NEXP    =                    2 / Number of valid exposures                      \n",
       "NEXP_B  =                    2 / Number of valid blue exposures                 \n",
       "NEXP_R  =                    2 / Number of valid red exposures                  \n",
       "EXPT_B  =              1000.00 / [s] Blue exposure duration time                \n",
       "EXPT_R  =              1000.00 / [s] Red exposure duration time                 \n",
       "EXPTIME =              1000.00 / [s] Minimum of exposure time for all cameras   \n",
       "BESTEXP =             80582201 / LMJM of the best exposure                      \n",
       "SCAMEAN =                 2.90 / [ADU] Mean level of scatter light              \n",
       "COMMENT --------SPECTROGRAPH PARAMETERS                                         \n",
       "SPID    =                    5 / Spectrograph ID                                \n",
       "SPRA    =           70.8596283 / [deg] Average RA of this spectrograph          \n",
       "SPDEC   =           46.4343317 / [deg] Average DEC of this spectrograph         \n",
       "SLIT_MOD= 'x2/3    '           / Slit mode, x1, x2/3 or x1/2                    \n",
       "COMMENT --------WEATHER CONDITION                                               \n",
       "TEMPCCDB=              -108.10 / [deg] The temperature of blue CCD              \n",
       "TEMPCCDR=              -121.90 / [deg] The temperature of red CCD               \n",
       "SEEING  =                 3.50 / [arcsec] Seeing during exposure                \n",
       "MOONPHA =                 9.23 / [day] Moon phase for a 29.53 days period       \n",
       "TEMP_AIR=               -12.40 / [deg] Temperature outside dome                 \n",
       "TEMP_FP =                -7.40 / [degree celsius] Temprature of the focalplane  \n",
       "DEWPOINT=               -32.20 / [deg]                                          \n",
       "DUST    = '        '           / Reservation                                    \n",
       "HUMIDITY=                 0.20 /                                                \n",
       "WINDD   =               237.70 / [deg] Wind direction                           \n",
       "WINDS   =                 3.10 / [m/s] Wind speed                               \n",
       "SKYLEVEL= '        '           / Reservation                                    \n",
       "COMMENT --------DATA REDUCTION PARAMETERS                                       \n",
       "EXTRACT = 'aperture'           / Extraction method                              \n",
       "SFLATTEN=                    T / Super flat has been applied                    \n",
       "PCASKYSB=                    T / PCA sky-subtraction has been applied           \n",
       "NSKIES  =                   18 / Sky fiber number                               \n",
       "SKYCHI2 =                  1.6 / Mean chi^2 of sky-subtraction                  \n",
       "SCHI2MIN=                  1.5 / Minimum chi^2 of sky-subtraction               \n",
       "SCHI2MAX=                  1.6 / Maximum chi^2 of sky-subtraction               \n",
       "NSTD    =                    6 / Number of (good) standard stars                \n",
       "FSTAR   = '129-233-63-174-165-168' / FiberID of flux standard stars             \n",
       "FCBY    = 'auto    '           / Standard stars origin (auto, manual or catalog)\n",
       "HELIO   =                    T / Heliocentric correction                        \n",
       "HELIO_RV=             23.09431 / [km/s] Heliocentric correction                 \n",
       "VACUUM  =                    T / Wavelengths are in vacuum                      \n",
       "NWORDER =                    2 / Number of linear-log10 coefficients            \n",
       "WFITTYPE= 'LOG-LINEAR'         / Linear-log10 dispersion                        \n",
       "COEFF0  =               3.5841 / Central wavelength (log10) of first pixel      \n",
       "COEFF1  =               0.0001 / Log10 dispersion per pixel                     \n",
       "WAT0_001= 'system=linear'      /                                                \n",
       "WAT1_001= 'wtype=linear label=Wavelength units=Angstroms' /                     \n",
       "CRVAL1  =               3.5841 / Central wavelength (log10) of first pixel      \n",
       "CD1_1   =               0.0001 / Log10 dispersion per pixel                     \n",
       "CRPIX1  =                    1 / Starting pixel (1-indexed)                     \n",
       "CTYPE1  = 'LINEAR  '           /                                                \n",
       "DC-FLAG =                    1 / Log-linear flag                                \n",
       "COMMENT --------SPECTRA ANALYSIS RESULTS                                        \n",
       "VERSPIPE= 'v2.9.8  '           / Version of Pipeline                            \n",
       "CLASS   = 'STAR    '           / Class of object                                \n",
       "SUBCLASS= 'WD      '           / Subclass of object                             \n",
       "Z       =          -0.00019053 / Redshift of object                             \n",
       "Z_ERR   =           0.00000647 / Redshift error of object                       \n",
       "ZFLAG   = 'PIPELINE AND EYECHECK' / Which method computes the redshift          \n",
       "SNRU    =                 0.00 / SNR of u filter                                \n",
       "SNRG    =                82.57 / SNR of g filter                                \n",
       "SNRR    =                27.76 / SNR of r filter                                \n",
       "SNRI    =                22.41 / SNR of i filter                                \n",
       "SNRZ    =                13.82 / SNR of z filter                                \n",
       "FIB_MASK=                    0 / Bitmask of warning values, 0 means good        "
      ]
     },
     "execution_count": 31,
     "metadata": {},
     "output_type": "execute_result"
    }
   ],
   "source": [
    "# Get the header of the primary data unit (usually the first HDU)\n",
    "header = hdu[0].header\n",
    "header"
   ]
  },
  {
   "cell_type": "code",
   "execution_count": 33,
   "id": "968f0dae",
   "metadata": {},
   "outputs": [
    {
     "name": "stdout",
     "output_type": "stream",
     "text": [
      "70.838698 46.701582\n"
     ]
    }
   ],
   "source": [
    "print(header[\"RA\"], header[\"DEC\"])"
   ]
  },
  {
   "cell_type": "code",
   "execution_count": null,
   "id": "9ecc77f0",
   "metadata": {},
   "outputs": [],
   "source": []
  }
 ],
 "metadata": {
  "kernelspec": {
   "display_name": "Python 3 (ipykernel)",
   "language": "python",
   "name": "python3"
  },
  "language_info": {
   "codemirror_mode": {
    "name": "ipython",
    "version": 3
   },
   "file_extension": ".py",
   "mimetype": "text/x-python",
   "name": "python",
   "nbconvert_exporter": "python",
   "pygments_lexer": "ipython3",
   "version": "3.9.7"
  }
 },
 "nbformat": 4,
 "nbformat_minor": 5
}
