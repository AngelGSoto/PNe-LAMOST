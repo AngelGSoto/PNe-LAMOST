{
 "cells": [
  {
   "cell_type": "code",
   "execution_count": 2,
   "id": "f638ac55",
   "metadata": {},
   "outputs": [],
   "source": [
    "%matplotlib inline\n",
    "import numpy as np\n",
    "from astropy.table import Table\n",
    "import matplotlib.pyplot as plt\n",
    "import os\n",
    "home_dir = os.environ['HOME'] + '/'\n",
    "import pyCloudy as pc"
   ]
  },
  {
   "cell_type": "code",
   "execution_count": 50,
   "id": "a4ea6542",
   "metadata": {},
   "outputs": [],
   "source": [
    "# We define a function that will manage the input files of Cloudy. \n",
    "# This allow to easily change some parameters, very usefull to do a grid.\n",
    "def make_model(dir_, model_name, Teff = 100.e3, L = 37.5842, dens = 3.4771212547196626):\n",
    "    full_model_name = '{0}_{1:.0f}_{2:.2f}'.format(model_name, Teff, L)\n",
    "    dist = 2.31300952 #kpc (from gaia  Bailer-Jones C.A.L.)\n",
    "    # these are the commands common to all the models (here only one ...)\n",
    "    options = ('blackbody ' + str(Teff) + ' linear',\n",
    "               'luminosity ' + str(L),\n",
    "               'abundances he=-1.02 li=-20 be=-20 b=-20 c=-4.8', \n",
    "               'continue n=-4.41 o=-3.88 f=-20 ne=-4.8',\n",
    "               'continue na=-20 mg=-20 al=-20 si=-5 p=-20',   \n",
    "               'continue s=-5.4 cl=-20 ar=-6.23 k=-20 ca=-20',\n",
    "               'continue sc=-20 ti=-20 v=-20 cr=-20 mn=-20',\n",
    "               'continue fe=-20 co=-20 ni=-20 cu=-20 zn=-20',\n",
    "               'hden ' + str(dens),\n",
    "               'radius 16.9030 17.35',\n",
    "               'set save resolving power 1800',)\n",
    "    \n",
    "    # Defining the object that will manage the input file for Cloudy\n",
    "    c_input = pc.CloudyInput('{0}{1}'.format(dir_, full_model_name))\n",
    "    # Filling the object with the parameters\n",
    "    # Defining the ionizing SED: Effective temperature and luminosity.\n",
    "    # The lumi_unit is one of the Cloudy options, like \"luminosity solar\", \"q(H)\", \"ionization parameter\", etc... \n",
    "    #c_input.set_BB(Teff = Teff, lumi_unit = 'q(h)', lumi_value = qH)\n",
    "    # Defining the density. You may also use set_dlaw(parameters) if you have a density law defined in dense_fabden.cpp.\n",
    "    #c_input.set_cste_density(dens)\n",
    "    # Defining the inner radius. A second parameter would be the outer radius (matter-bounded nebula).\n",
    "    #c_input.set_radius(np.log10(r_min))\n",
    "    #c_input.set_abund(ab_dict = abund, nograins = True)\n",
    "    c_input.set_other(options)\n",
    "    c_input.set_iterate() # (0) for no iteration, () for one iteration, (N) for N iterations.\n",
    "    c_input.set_sphere() # () or (True) : sphere, or (False): open geometry.\n",
    "    #c_input.set_emis_tab(emis_tab)\n",
    "    c_input.set_distance(dist, 'kpc')\n",
    "    c_input.print_input(to_file = True, verbose = False)"
   ]
  },
  {
   "cell_type": "code",
   "execution_count": 51,
   "id": "b91486b9",
   "metadata": {},
   "outputs": [],
   "source": [
    "# The directory in which we will have the model\n",
    "# You may want to change this to a different place so that the current directory\n",
    "# will not receive all the Cloudy files.\n",
    "dir_ = '../Model-PNNew/models/DdDm1_L4/'"
   ]
  },
  {
   "cell_type": "code",
   "execution_count": 52,
   "id": "c5ad729f",
   "metadata": {},
   "outputs": [],
   "source": [
    "# Define verbosity to high level (will print errors, warnings and messages)\n",
    "pc.log_.level = 3"
   ]
  },
  {
   "cell_type": "code",
   "execution_count": 53,
   "id": "a7669571",
   "metadata": {},
   "outputs": [],
   "source": [
    "# Generic name of the models\n",
    "model_name = 'model'"
   ]
  },
  {
   "cell_type": "code",
   "execution_count": 54,
   "id": "29c14a11",
   "metadata": {},
   "outputs": [],
   "source": [
    "# tables for the values of the temperature and luminosity\n",
    "T = [100e3, 110e3, 120e3, 130e3, 140e3, 150e3, 160e3]\n"
   ]
  },
  {
   "cell_type": "code",
   "execution_count": 55,
   "id": "121896e3",
   "metadata": {},
   "outputs": [],
   "source": [
    "#L2 #log L = 500 x 3.839×1033 erg/s (in solar units)\n",
    "#L3 #log L = 1 000 x 3.839×1033 erg/s (in solar units)\n",
    "#L5 #log L = 5 000 x 3.839×1033 erg/s (in solar units)\n",
    "#L4 #log L = 10 000 x 3.839×1033 erg/s (in solar units)\n",
    "L = [36.283188, 36.5842, 37.283188, 37.5842]"
   ]
  },
  {
   "cell_type": "code",
   "execution_count": 56,
   "id": "1b59f338",
   "metadata": {},
   "outputs": [
    {
     "name": "stdout",
     "output_type": "stream",
     "text": [
      "warng CloudyInput: \"None\" parameter not printed\n",
      "     CloudyInput: Input writen in ../Model-PNNew/models/DdDm1_L4/model_100000_36.28.in\n",
      "warng CloudyInput: \"None\" parameter not printed\n",
      "     CloudyInput: Input writen in ../Model-PNNew/models/DdDm1_L4/model_100000_36.58.in\n",
      "warng CloudyInput: \"None\" parameter not printed\n",
      "     CloudyInput: Input writen in ../Model-PNNew/models/DdDm1_L4/model_100000_37.28.in\n",
      "warng CloudyInput: \"None\" parameter not printed\n",
      "     CloudyInput: Input writen in ../Model-PNNew/models/DdDm1_L4/model_100000_37.58.in\n",
      "warng CloudyInput: \"None\" parameter not printed\n",
      "     CloudyInput: Input writen in ../Model-PNNew/models/DdDm1_L4/model_110000_36.28.in\n",
      "warng CloudyInput: \"None\" parameter not printed\n",
      "     CloudyInput: Input writen in ../Model-PNNew/models/DdDm1_L4/model_110000_36.58.in\n",
      "warng CloudyInput: \"None\" parameter not printed\n",
      "     CloudyInput: Input writen in ../Model-PNNew/models/DdDm1_L4/model_110000_37.28.in\n",
      "warng CloudyInput: \"None\" parameter not printed\n",
      "     CloudyInput: Input writen in ../Model-PNNew/models/DdDm1_L4/model_110000_37.58.in\n",
      "warng CloudyInput: \"None\" parameter not printed\n",
      "     CloudyInput: Input writen in ../Model-PNNew/models/DdDm1_L4/model_120000_36.28.in\n",
      "warng CloudyInput: \"None\" parameter not printed\n",
      "     CloudyInput: Input writen in ../Model-PNNew/models/DdDm1_L4/model_120000_36.58.in\n",
      "warng CloudyInput: \"None\" parameter not printed\n",
      "     CloudyInput: Input writen in ../Model-PNNew/models/DdDm1_L4/model_120000_37.28.in\n",
      "warng CloudyInput: \"None\" parameter not printed\n",
      "     CloudyInput: Input writen in ../Model-PNNew/models/DdDm1_L4/model_120000_37.58.in\n",
      "warng CloudyInput: \"None\" parameter not printed\n",
      "     CloudyInput: Input writen in ../Model-PNNew/models/DdDm1_L4/model_130000_36.28.in\n",
      "warng CloudyInput: \"None\" parameter not printed\n",
      "     CloudyInput: Input writen in ../Model-PNNew/models/DdDm1_L4/model_130000_36.58.in\n",
      "warng CloudyInput: \"None\" parameter not printed\n",
      "     CloudyInput: Input writen in ../Model-PNNew/models/DdDm1_L4/model_130000_37.28.in\n",
      "warng CloudyInput: \"None\" parameter not printed\n",
      "     CloudyInput: Input writen in ../Model-PNNew/models/DdDm1_L4/model_130000_37.58.in\n",
      "warng CloudyInput: \"None\" parameter not printed\n",
      "     CloudyInput: Input writen in ../Model-PNNew/models/DdDm1_L4/model_140000_36.28.in\n",
      "warng CloudyInput: \"None\" parameter not printed\n",
      "     CloudyInput: Input writen in ../Model-PNNew/models/DdDm1_L4/model_140000_36.58.in\n",
      "warng CloudyInput: \"None\" parameter not printed\n",
      "     CloudyInput: Input writen in ../Model-PNNew/models/DdDm1_L4/model_140000_37.28.in\n",
      "warng CloudyInput: \"None\" parameter not printed\n",
      "     CloudyInput: Input writen in ../Model-PNNew/models/DdDm1_L4/model_140000_37.58.in\n",
      "warng CloudyInput: \"None\" parameter not printed\n",
      "     CloudyInput: Input writen in ../Model-PNNew/models/DdDm1_L4/model_150000_36.28.in\n",
      "warng CloudyInput: \"None\" parameter not printed\n",
      "     CloudyInput: Input writen in ../Model-PNNew/models/DdDm1_L4/model_150000_36.58.in\n",
      "warng CloudyInput: \"None\" parameter not printed\n",
      "     CloudyInput: Input writen in ../Model-PNNew/models/DdDm1_L4/model_150000_37.28.in\n",
      "warng CloudyInput: \"None\" parameter not printed\n",
      "     CloudyInput: Input writen in ../Model-PNNew/models/DdDm1_L4/model_150000_37.58.in\n",
      "warng CloudyInput: \"None\" parameter not printed\n",
      "     CloudyInput: Input writen in ../Model-PNNew/models/DdDm1_L4/model_160000_36.28.in\n",
      "warng CloudyInput: \"None\" parameter not printed\n",
      "     CloudyInput: Input writen in ../Model-PNNew/models/DdDm1_L4/model_160000_36.58.in\n",
      "warng CloudyInput: \"None\" parameter not printed\n",
      "     CloudyInput: Input writen in ../Model-PNNew/models/DdDm1_L4/model_160000_37.28.in\n",
      "warng CloudyInput: \"None\" parameter not printed\n",
      "     CloudyInput: Input writen in ../Model-PNNew/models/DdDm1_L4/model_160000_37.58.in\n"
     ]
    }
   ],
   "source": [
    "# defining the models and writing 20 input files\n",
    "for Teff_ in T:\n",
    "    for L_ in L:\n",
    "        make_model(dir_, model_name, Teff = Teff_, L = L_)"
   ]
  },
  {
   "cell_type": "code",
   "execution_count": null,
   "id": "b305cd67",
   "metadata": {},
   "outputs": [],
   "source": []
  }
 ],
 "metadata": {
  "kernelspec": {
   "display_name": "Python 3 (ipykernel)",
   "language": "python",
   "name": "python3"
  },
  "language_info": {
   "codemirror_mode": {
    "name": "ipython",
    "version": 3
   },
   "file_extension": ".py",
   "mimetype": "text/x-python",
   "name": "python",
   "nbconvert_exporter": "python",
   "pygments_lexer": "ipython3",
   "version": "3.8.5"
  }
 },
 "nbformat": 4,
 "nbformat_minor": 5
}
