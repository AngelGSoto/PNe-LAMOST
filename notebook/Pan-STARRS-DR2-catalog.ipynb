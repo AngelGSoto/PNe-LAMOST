{
 "cells": [
  {
   "cell_type": "markdown",
   "id": "fb7c9570",
   "metadata": {},
   "source": [
    "Macth with PS1 DR2 using using requests, more information [here](https://outerspace.stsci.edu/display/PANSTARRS/Easy+cross-match+with+PS1+using+a+list+of+source+positions)."
   ]
  },
  {
   "cell_type": "code",
   "execution_count": 4,
   "id": "ed98bc25",
   "metadata": {},
   "outputs": [],
   "source": [
    "import requests\n",
    "import pandas as pd"
   ]
  },
  {
   "cell_type": "code",
   "execution_count": 5,
   "id": "303ade44",
   "metadata": {},
   "outputs": [],
   "source": [
    "r = 0.000555556"
   ]
  },
  {
   "cell_type": "code",
   "execution_count": 11,
   "id": "0e477621",
   "metadata": {},
   "outputs": [],
   "source": [
    "df = pd.read_csv(\"PS/SySt-akras-ps-list-match.csv\")"
   ]
  },
  {
   "cell_type": "code",
   "execution_count": 12,
   "id": "6d5ddfc3",
   "metadata": {},
   "outputs": [],
   "source": [
    "url = 'https://catalogs.mast.stsci.edu/api/v0.1/panstarrs/dr2/mean/crossmatch/upload.csv'"
   ]
  },
  {
   "cell_type": "code",
   "execution_count": 15,
   "id": "4251d3f1",
   "metadata": {},
   "outputs": [
    {
     "ename": "TypeError",
     "evalue": "expected str, bytes or os.PathLike object, not DataFrame",
     "output_type": "error",
     "traceback": [
      "\u001b[0;31m---------------------------------------------------------------------------\u001b[0m",
      "\u001b[0;31mTypeError\u001b[0m                                 Traceback (most recent call last)",
      "\u001b[0;32m/tmp/ipykernel_119976/43269671.py\u001b[0m in \u001b[0;36m<module>\u001b[0;34m\u001b[0m\n\u001b[0;32m----> 1\u001b[0;31m \u001b[0mr\u001b[0m \u001b[0;34m=\u001b[0m \u001b[0mrequests\u001b[0m\u001b[0;34m.\u001b[0m\u001b[0mpost\u001b[0m\u001b[0;34m(\u001b[0m\u001b[0murl\u001b[0m\u001b[0;34m,\u001b[0m \u001b[0mparams\u001b[0m\u001b[0;34m=\u001b[0m\u001b[0mdict\u001b[0m\u001b[0;34m(\u001b[0m\u001b[0mradius\u001b[0m\u001b[0;34m=\u001b[0m\u001b[0mr\u001b[0m\u001b[0;34m)\u001b[0m\u001b[0;34m,\u001b[0m \u001b[0mfiles\u001b[0m\u001b[0;34m=\u001b[0m\u001b[0mdict\u001b[0m\u001b[0;34m(\u001b[0m\u001b[0mfile\u001b[0m\u001b[0;34m=\u001b[0m\u001b[0mopen\u001b[0m\u001b[0;34m(\u001b[0m\u001b[0mdf\u001b[0m\u001b[0;34m,\u001b[0m\u001b[0;34m'rb'\u001b[0m\u001b[0;34m)\u001b[0m\u001b[0;34m)\u001b[0m\u001b[0;34m)\u001b[0m\u001b[0;34m\u001b[0m\u001b[0;34m\u001b[0m\u001b[0m\n\u001b[0m",
      "\u001b[0;31mTypeError\u001b[0m: expected str, bytes or os.PathLike object, not DataFrame"
     ]
    }
   ],
   "source": [
    "r = requests.post(url, params=dict(radius=r), files=dict(file=open(df,'rb')))"
   ]
  },
  {
   "cell_type": "code",
   "execution_count": null,
   "id": "f5d3da6a",
   "metadata": {},
   "outputs": [],
   "source": []
  }
 ],
 "metadata": {
  "kernelspec": {
   "display_name": "Python 3 (ipykernel)",
   "language": "python",
   "name": "python3"
  },
  "language_info": {
   "codemirror_mode": {
    "name": "ipython",
    "version": 3
   },
   "file_extension": ".py",
   "mimetype": "text/x-python",
   "name": "python",
   "nbconvert_exporter": "python",
   "pygments_lexer": "ipython3",
   "version": "3.8.5"
  }
 },
 "nbformat": 4,
 "nbformat_minor": 5
}
