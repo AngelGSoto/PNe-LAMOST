{
 "cells": [
  {
   "cell_type": "code",
   "execution_count": 1,
   "id": "3e752bc6",
   "metadata": {},
   "outputs": [
    {
     "data": {
      "text/plain": [
       "<astropy.visualization.units.quantity_support.<locals>.MplQuantityConverter at 0x7ff5f0a75040>"
      ]
     },
     "execution_count": 1,
     "metadata": {},
     "output_type": "execute_result"
    }
   ],
   "source": [
    "from astropy.io import fits\n",
    "from astropy import units as u\n",
    "import numpy as np\n",
    "from matplotlib import pyplot as plt\n",
    "from astropy.visualization import quantity_support\n",
    "from astropy.wcs import WCS\n",
    "from astropy.modeling import models\n",
    "from astropy.nddata import StdDevUncertainty\n",
    "# specutils packages\n",
    "from specutils import Spectrum1D\n",
    "from specutils.analysis import line_flux\n",
    "from specutils.fitting import fit_generic_continuum\n",
    "from specutils import SpectralRegion\n",
    "from specutils.analysis import equivalent_width\n",
    "from specutils.analysis import centroid\n",
    "from specutils.analysis import moment\n",
    "from specutils.manipulation import noise_region_uncertainty\n",
    "from specutils.fitting import estimate_line_parameters\n",
    "from specutils.manipulation import extract_region\n",
    "from specutils.fitting import fit_lines\n",
    "from specutils.fitting import find_lines_threshold\n",
    "import warnings\n",
    "with warnings.catch_warnings():  # Ignore warnings\n",
    "    warnings.simplefilter('ignore')\n",
    "quantity_support()"
   ]
  },
  {
   "cell_type": "code",
   "execution_count": 2,
   "id": "62eaa5d5",
   "metadata": {},
   "outputs": [],
   "source": [
    "# OUR PN\n",
    "hdu = fits.open(\"../Spectra-lamostdr7/spec-56581-VB031N50V1_sp08-218.fits\")\n",
    "hdudata = hdu[0].data\n",
    "wl = hdudata[2]\n",
    "Flux = hdudata[0]\n",
    "inve_var = hdudata[1]\n",
    "sigma = 1 / np.sqrt(inve_var)"
   ]
  },
  {
   "cell_type": "code",
   "execution_count": 3,
   "id": "233a28bf",
   "metadata": {},
   "outputs": [
    {
     "data": {
      "text/latex": [
       "$\\mathrm{Relative~flux}$"
      ],
      "text/plain": [
       "Unit(\"Relative~flux\")"
      ]
     },
     "execution_count": 3,
     "metadata": {},
     "output_type": "execute_result"
    }
   ],
   "source": [
    "# Defining units astropy\n",
    "rel_flux = u.def_unit('Relative~flux')\n",
    "rel_flux.decompose()"
   ]
  },
  {
   "cell_type": "code",
   "execution_count": 4,
   "id": "23d95ccf",
   "metadata": {},
   "outputs": [],
   "source": [
    "lamb = wl * u.AA \n",
    "flux = Flux * rel_flux\n",
    "Sigma = StdDevUncertainty(sigma * rel_flux)\n",
    "spec = Spectrum1D(spectral_axis=lamb, flux=flux, uncertainty=Sigma) "
   ]
  },
  {
   "cell_type": "code",
   "execution_count": 5,
   "id": "b287abb7",
   "metadata": {},
   "outputs": [],
   "source": [
    "def extra_line(wl_vacuum):\n",
    "    line_region = SpectralRegion((wl_vacuum-50)*u.AA, (wl_vacuum+50)*u.AA)\n",
    "    return line_region"
   ]
  },
  {
   "cell_type": "markdown",
   "id": "903d839f",
   "metadata": {},
   "source": [
    "Emission lines"
   ]
  },
  {
   "cell_type": "code",
   "execution_count": 6,
   "id": "3c6a11d8",
   "metadata": {},
   "outputs": [],
   "source": [
    "HeII = 4685.99\n",
    "ArIV = 4740.120\n",
    "Hbeta = 4862.721\n",
    "OIII_1 = 4958.911\n",
    "OIII_2 = 5008.239\n",
    "ArV = 7005.87\n",
    "Halpha = 6564.614"
   ]
  },
  {
   "cell_type": "code",
   "execution_count": 7,
   "id": "9c2bcc05",
   "metadata": {},
   "outputs": [],
   "source": [
    "extra_Hbeta = extra_line(Hbeta)\n",
    "Hbeta_spec = extract_region(spec, extra_Hbeta)"
   ]
  },
  {
   "cell_type": "markdown",
   "id": "d9a4172c",
   "metadata": {},
   "source": [
    "Find the line"
   ]
  },
  {
   "cell_type": "code",
   "execution_count": 8,
   "id": "c155bab4",
   "metadata": {},
   "outputs": [],
   "source": [
    "with warnings.catch_warnings():  # Ignore warnings\n",
    "    warnings.simplefilter('ignore')\n",
    "    Hbeta_lines = find_lines_threshold(Hbeta_spec, noise_factor = 3)"
   ]
  },
  {
   "cell_type": "code",
   "execution_count": 9,
   "id": "fa84fbaa",
   "metadata": {},
   "outputs": [
    {
     "data": {
      "text/html": [
       "<div><i>QTable length=2</i>\n",
       "<table id=\"table140694281390784\" class=\"table-striped table-bordered table-condensed\">\n",
       "<thead><tr><th>line_center</th><th>line_type</th><th>line_center_index</th></tr></thead>\n",
       "<thead><tr><th>Angstrom</th><th></th><th></th></tr></thead>\n",
       "<thead><tr><th>float32</th><th>str8</th><th>int64</th></tr></thead>\n",
       "<tr><td>4860.71435546875</td><td>emission</td><td>43</td></tr>\n",
       "<tr><td>4867.4345703125</td><td>emission</td><td>49</td></tr>\n",
       "</table></div>"
      ],
      "text/plain": [
       "<QTable length=2>\n",
       "  line_center    line_type line_center_index\n",
       "    Angstrom                                \n",
       "    float32         str8         int64      \n",
       "---------------- --------- -----------------\n",
       "4860.71435546875  emission                43\n",
       " 4867.4345703125  emission                49"
      ]
     },
     "execution_count": 9,
     "metadata": {},
     "output_type": "execute_result"
    }
   ],
   "source": [
    "Hbeta_lines"
   ]
  },
  {
   "cell_type": "markdown",
   "id": "2a126768",
   "metadata": {},
   "source": [
    "In case find more than one line"
   ]
  },
  {
   "cell_type": "code",
   "execution_count": 10,
   "id": "74329f3d",
   "metadata": {},
   "outputs": [],
   "source": [
    "def closest(lst, K):\n",
    "    '''find the closest number'''\n",
    "    lst = np.array(lst)\n",
    "    idx = (np.abs(lst - K)).argmin()\n",
    "    return lst[idx]"
   ]
  },
  {
   "cell_type": "code",
   "execution_count": 11,
   "id": "0add9e40",
   "metadata": {},
   "outputs": [],
   "source": [
    "wl_Hbeta = closest(Hbeta_lines['line_center'], Hbeta)\n",
    "mask = Hbeta_lines['line_center'] == wl_Hbeta\n",
    "Hbeta_lines_mask = Hbeta_lines[mask]"
   ]
  },
  {
   "cell_type": "markdown",
   "id": "0dcc4caa",
   "metadata": {},
   "source": [
    "Extracting again the region on the line using the line find and estimate the parameters of the Gaussian"
   ]
  },
  {
   "cell_type": "code",
   "execution_count": 12,
   "id": "b29c9737",
   "metadata": {},
   "outputs": [
    {
     "data": {
      "text/plain": [
       "<Gaussian1D(amplitude=2490.39013672 Relative~flux, mean=4860.74414062 Angstrom, stddev=1.5070765 Angstrom)>"
      ]
     },
     "execution_count": 12,
     "metadata": {},
     "output_type": "execute_result"
    }
   ],
   "source": [
    "Hbeta_region = SpectralRegion(Hbeta_lines_mask['line_center'] - 5 * u.AA, Hbeta_lines_mask['line_center'] + 5 * u.AA)\n",
    "sub_spectrum = extract_region(spec, Hbeta_region)\n",
    "line_para = estimate_line_parameters(sub_spectrum, models.Gaussian1D())\n",
    "line_para"
   ]
  },
  {
   "cell_type": "markdown",
   "id": "5a8b1155",
   "metadata": {},
   "source": [
    "Fitting the 1D-Gaussian"
   ]
  },
  {
   "cell_type": "code",
   "execution_count": 13,
   "id": "78ac3dfe",
   "metadata": {},
   "outputs": [],
   "source": [
    "# Fit the spectrum and calculate the fitted flux values (``y_fit``)\n",
    "g_init = models.Gaussian1D(amplitude=line_para.amplitude.value * rel_flux , mean=line_para.mean.value * u.AA , stddev=line_para.stddev.value * u.AA )\n",
    "g_fit = fit_lines(spec, g_init, window=(Hbeta_lines_mask['line_center'] - 50 * u.AA, Hbeta_lines_mask['line_center'] + 50 * u.AA))\n",
    "y_fit = g_fit(lamb)"
   ]
  },
  {
   "cell_type": "code",
   "execution_count": 14,
   "id": "cfce383d",
   "metadata": {},
   "outputs": [
    {
     "data": {
      "text/plain": [
       "(4833.0, 4893.0)"
      ]
     },
     "execution_count": 14,
     "metadata": {},
     "output_type": "execute_result"
    },
    {
     "data": {
      "image/png": "[encoded data removed]",
      "text/plain": [
       "<Figure size 432x288 with 1 Axes>"
      ]
     },
     "metadata": {
      "needs_background": "light"
     },
     "output_type": "display_data"
    }
   ],
   "source": [
    "plt.plot(wl, Flux, linewidth=5)\n",
    "plt.plot(wl, y_fit)\n",
    "plt.xlim((4863-30), (4863+30))\n",
    "#plt.xlim(3500, 9000)\n",
    "#plt.title('Single fit peak window')\n",
    "#plt.grid(True)"
   ]
  },
  {
   "cell_type": "markdown",
   "id": "82e8e82a",
   "metadata": {},
   "source": [
    "# Helium\n"
   ]
  },
  {
   "cell_type": "code",
   "execution_count": 15,
   "id": "26d9ff00",
   "metadata": {},
   "outputs": [],
   "source": [
    "extra_HeII = extra_line(HeII)\n",
    "HeII_spec = extract_region(spec, extra_HeII)"
   ]
  },
  {
   "cell_type": "code",
   "execution_count": 16,
   "id": "1f0cd83f",
   "metadata": {},
   "outputs": [],
   "source": [
    "with warnings.catch_warnings():  # Ignore warnings\n",
    "    warnings.simplefilter('ignore')\n",
    "    HeII_lines = find_lines_threshold(HeII_spec, noise_factor = 3)"
   ]
  },
  {
   "cell_type": "code",
   "execution_count": 17,
   "id": "77f46ebf",
   "metadata": {},
   "outputs": [
    {
     "data": {
      "text/html": [
       "<div><i>QTable length=6</i>\n",
       "<table id=\"table140694243336000\" class=\"table-striped table-bordered table-condensed\">\n",
       "<thead><tr><th>line_center</th><th>line_type</th><th>line_center_index</th></tr></thead>\n",
       "<thead><tr><th>Angstrom</th><th></th><th></th></tr></thead>\n",
       "<thead><tr><th>float32</th><th>str8</th><th>int64</th></tr></thead>\n",
       "<tr><td>4648.36376953125</td><td>emission</td><td>11</td></tr>\n",
       "<tr><td>4684.8974609375</td><td>emission</td><td>45</td></tr>\n",
       "<tr><td>4705.4384765625</td><td>emission</td><td>64</td></tr>\n",
       "<tr><td>4710.85888671875</td><td>emission</td><td>69</td></tr>\n",
       "<tr><td>4724.9814453125</td><td>emission</td><td>82</td></tr>\n",
       "<tr><td>4731.513671875</td><td>emission</td><td>88</td></tr>\n",
       "</table></div>"
      ],
      "text/plain": [
       "<QTable length=6>\n",
       "  line_center    line_type line_center_index\n",
       "    Angstrom                                \n",
       "    float32         str8         int64      \n",
       "---------------- --------- -----------------\n",
       "4648.36376953125  emission                11\n",
       " 4684.8974609375  emission                45\n",
       " 4705.4384765625  emission                64\n",
       "4710.85888671875  emission                69\n",
       " 4724.9814453125  emission                82\n",
       "  4731.513671875  emission                88"
      ]
     },
     "execution_count": 17,
     "metadata": {},
     "output_type": "execute_result"
    }
   ],
   "source": [
    "HeII_lines"
   ]
  },
  {
   "cell_type": "code",
   "execution_count": 18,
   "id": "647f0c73",
   "metadata": {},
   "outputs": [],
   "source": [
    "wl_HeII = closest(HeII_lines['line_center'].value, HeII)\n",
    "mask_HeII = (HeII_lines['line_center'].value == wl_HeII)\n",
    "HeII_lines_mask = HeII_lines[mask_HeII]"
   ]
  },
  {
   "cell_type": "code",
   "execution_count": 19,
   "id": "a497f4c1",
   "metadata": {},
   "outputs": [
    {
     "data": {
      "text/plain": [
       "<Gaussian1D(amplitude=2568.76708984 Relative~flux, mean=4685.32324219 Angstrom, stddev=1.43129992 Angstrom)>"
      ]
     },
     "execution_count": 19,
     "metadata": {},
     "output_type": "execute_result"
    }
   ],
   "source": [
    "HeII_region = SpectralRegion(HeII_lines_mask['line_center'] - 5 * u.AA, HeII_lines_mask['line_center'] + 5 * u.AA)\n",
    "sub_spectrum_HeII = extract_region(spec, HeII_region)\n",
    "line_para_HeII = estimate_line_parameters(sub_spectrum_HeII, models.Gaussian1D())\n",
    "line_para_HeII"
   ]
  },
  {
   "cell_type": "code",
   "execution_count": 20,
   "id": "af167407",
   "metadata": {},
   "outputs": [],
   "source": [
    "# Fit the spectrum and calculate the fitted flux values (``y_fit``)\n",
    "g_init_HeII = models.Gaussian1D(amplitude=line_para_HeII.amplitude.value * rel_flux , mean=line_para_HeII.mean.value * u.AA , stddev=line_para_HeII.stddev.value * u.AA )\n",
    "g_fit_HeII = fit_lines(spec, g_init_HeII, window=(HeII_lines_mask['line_center'] - 5 * u.AA, HeII_lines_mask['line_center'] + 5 * u.AA))\n",
    "y_fit_HeII = g_fit_HeII(lamb)"
   ]
  },
  {
   "cell_type": "code",
   "execution_count": 21,
   "id": "fc646df3",
   "metadata": {},
   "outputs": [
    {
     "data": {
      "text/plain": [
       "(4654.8974609375, 4714.8974609375)"
      ]
     },
     "execution_count": 21,
     "metadata": {},
     "output_type": "execute_result"
    },
    {
     "data": {
      "image/png": "[encoded data removed]",
      "text/plain": [
       "<Figure size 432x288 with 1 Axes>"
      ]
     },
     "metadata": {
      "needs_background": "light"
     },
     "output_type": "display_data"
    }
   ],
   "source": [
    "plt.plot(wl, Flux, linewidth=5)\n",
    "plt.plot(wl, y_fit_HeII)\n",
    "plt.xlim((HeII_lines_mask['line_center'].value-30), (HeII_lines_mask['line_center'].value+30))"
   ]
  },
  {
   "cell_type": "code",
   "execution_count": 22,
   "id": "730e9058",
   "metadata": {},
   "outputs": [
    {
     "data": {
      "text/latex": [
       "$[4684.8975] \\; \\mathrm{\\mathring{A}}$"
      ],
      "text/plain": [
       "<Quantity [4684.8975] Angstrom>"
      ]
     },
     "execution_count": 22,
     "metadata": {},
     "output_type": "execute_result"
    }
   ],
   "source": [
    "HeII_lines_mask['line_center'] #4685.99"
   ]
  },
  {
   "cell_type": "code",
   "execution_count": 23,
   "id": "ba1a67c9",
   "metadata": {},
   "outputs": [
    {
     "data": {
      "text/html": [
       "<div><i>QTable length=1</i>\n",
       "<table id=\"table140694242549568\" class=\"table-striped table-bordered table-condensed\">\n",
       "<thead><tr><th>line_center</th><th>line_type</th><th>line_center_index</th></tr></thead>\n",
       "<thead><tr><th>Angstrom</th><th></th><th></th></tr></thead>\n",
       "<thead><tr><th>float32</th><th>str8</th><th>int64</th></tr></thead>\n",
       "<tr><td>4684.8974609375</td><td>emission</td><td>45</td></tr>\n",
       "</table></div>"
      ],
      "text/plain": [
       "<QTable length=1>\n",
       "  line_center   line_type line_center_index\n",
       "    Angstrom                               \n",
       "    float32        str8         int64      \n",
       "--------------- --------- -----------------\n",
       "4684.8974609375  emission                45"
      ]
     },
     "execution_count": 23,
     "metadata": {},
     "output_type": "execute_result"
    }
   ],
   "source": [
    "HeII_lines_mask"
   ]
  },
  {
   "cell_type": "code",
   "execution_count": 24,
   "id": "5738e1ce",
   "metadata": {},
   "outputs": [
    {
     "data": {
      "text/plain": [
       "4684.8975"
      ]
     },
     "execution_count": 24,
     "metadata": {},
     "output_type": "execute_result"
    }
   ],
   "source": [
    "wl_HeII"
   ]
  },
  {
   "cell_type": "markdown",
   "id": "6bfdb1fa",
   "metadata": {},
   "source": [
    "### ArIV "
   ]
  },
  {
   "cell_type": "code",
   "execution_count": 25,
   "id": "a63fdff2",
   "metadata": {},
   "outputs": [],
   "source": [
    "extra_ArIV = extra_line(ArIV)\n",
    "ArIV_spec = extract_region(spec, extra_ArIV)"
   ]
  },
  {
   "cell_type": "code",
   "execution_count": 26,
   "id": "53218138",
   "metadata": {},
   "outputs": [],
   "source": [
    "with warnings.catch_warnings():  # Ignore warnings\n",
    "    warnings.simplefilter('ignore')\n",
    "    ArIV_lines = find_lines_threshold(ArIV_spec, noise_factor = 3)"
   ]
  },
  {
   "cell_type": "code",
   "execution_count": 27,
   "id": "3c75b1cc",
   "metadata": {},
   "outputs": [
    {
     "data": {
      "text/html": [
       "<div><i>QTable length=6</i>\n",
       "<table id=\"table140694242145328\" class=\"table-striped table-bordered table-condensed\">\n",
       "<thead><tr><th>line_center</th><th>line_type</th><th>line_center_index</th></tr></thead>\n",
       "<thead><tr><th>Angstrom</th><th></th><th></th></tr></thead>\n",
       "<thead><tr><th>float32</th><th>str8</th><th>int64</th></tr></thead>\n",
       "<tr><td>4705.4384765625</td><td>emission</td><td>14</td></tr>\n",
       "<tr><td>4710.85888671875</td><td>emission</td><td>19</td></tr>\n",
       "<tr><td>4724.9814453125</td><td>emission</td><td>32</td></tr>\n",
       "<tr><td>4731.513671875</td><td>emission</td><td>38</td></tr>\n",
       "<tr><td>4740.23779296875</td><td>emission</td><td>46</td></tr>\n",
       "<tr><td>4752.25927734375</td><td>emission</td><td>57</td></tr>\n",
       "</table></div>"
      ],
      "text/plain": [
       "<QTable length=6>\n",
       "  line_center    line_type line_center_index\n",
       "    Angstrom                                \n",
       "    float32         str8         int64      \n",
       "---------------- --------- -----------------\n",
       " 4705.4384765625  emission                14\n",
       "4710.85888671875  emission                19\n",
       " 4724.9814453125  emission                32\n",
       "  4731.513671875  emission                38\n",
       "4740.23779296875  emission                46\n",
       "4752.25927734375  emission                57"
      ]
     },
     "execution_count": 27,
     "metadata": {},
     "output_type": "execute_result"
    }
   ],
   "source": [
    "ArIV_lines"
   ]
  },
  {
   "cell_type": "code",
   "execution_count": 28,
   "id": "31064214",
   "metadata": {},
   "outputs": [],
   "source": [
    "wl_ArIV = closest(ArIV_lines['line_center'].value, ArIV)\n",
    "mask_ArIV = (ArIV_lines['line_center'].value == wl_ArIV)\n",
    "ArIV_lines_mask = ArIV_lines[mask_ArIV]"
   ]
  },
  {
   "cell_type": "code",
   "execution_count": 29,
   "id": "43b658e7",
   "metadata": {},
   "outputs": [
    {
     "data": {
      "text/plain": [
       "<Gaussian1D(amplitude=202.72480774 Relative~flux, mean=4740.18652344 Angstrom, stddev=2.1687839 Angstrom)>"
      ]
     },
     "execution_count": 29,
     "metadata": {},
     "output_type": "execute_result"
    }
   ],
   "source": [
    "ArIV_region = SpectralRegion(ArIV_lines_mask['line_center'] - 5 * u.AA, ArIV_lines_mask['line_center'] + 5 * u.AA)\n",
    "sub_spectrum_ArIV = extract_region(spec, ArIV_region)\n",
    "line_para_ArIV = estimate_line_parameters(sub_spectrum_ArIV, models.Gaussian1D())\n",
    "line_para_ArIV"
   ]
  },
  {
   "cell_type": "code",
   "execution_count": 30,
   "id": "691ad102",
   "metadata": {},
   "outputs": [],
   "source": [
    "# Fit the spectrum and calculate the fitted flux values (``y_fit``)\n",
    "g_init_ArIV = models.Gaussian1D(amplitude=line_para_ArIV.amplitude.value * rel_flux , mean=line_para_ArIV.mean.value * u.AA , stddev=line_para_ArIV.stddev.value * u.AA )\n",
    "g_fit_ArIV = fit_lines(spec, g_init_ArIV, window=(ArIV_lines_mask['line_center'] - 5 * u.AA, ArIV_lines_mask['line_center'] + 5 * u.AA))\n",
    "y_fit_ArIV = g_fit_ArIV(lamb)"
   ]
  },
  {
   "cell_type": "code",
   "execution_count": 31,
   "id": "d901ce63",
   "metadata": {},
   "outputs": [
    {
     "data": {
      "text/plain": [
       "(4710.23779296875, 4770.23779296875)"
      ]
     },
     "execution_count": 31,
     "metadata": {},
     "output_type": "execute_result"
    },
    {
     "data": {
      "image/png": "[encoded data removed]",
      "text/plain": [
       "<Figure size 432x288 with 1 Axes>"
      ]
     },
     "metadata": {
      "needs_background": "light"
     },
     "output_type": "display_data"
    }
   ],
   "source": [
    "plt.plot(wl, Flux, linewidth=5)\n",
    "plt.plot(wl, y_fit_ArIV)\n",
    "plt.xlim((ArIV_lines_mask['line_center'].value-30), (ArIV_lines_mask['line_center'].value+30))"
   ]
  },
  {
   "cell_type": "code",
   "execution_count": 32,
   "id": "6477b59f",
   "metadata": {},
   "outputs": [
    {
     "data": {
      "text/html": [
       "<div><i>QTable length=1</i>\n",
       "<table id=\"table140694280653264\" class=\"table-striped table-bordered table-condensed\">\n",
       "<thead><tr><th>line_center</th><th>line_type</th><th>line_center_index</th></tr></thead>\n",
       "<thead><tr><th>Angstrom</th><th></th><th></th></tr></thead>\n",
       "<thead><tr><th>float32</th><th>str8</th><th>int64</th></tr></thead>\n",
       "<tr><td>4740.23779296875</td><td>emission</td><td>46</td></tr>\n",
       "</table></div>"
      ],
      "text/plain": [
       "<QTable length=1>\n",
       "  line_center    line_type line_center_index\n",
       "    Angstrom                                \n",
       "    float32         str8         int64      \n",
       "---------------- --------- -----------------\n",
       "4740.23779296875  emission                46"
      ]
     },
     "execution_count": 32,
     "metadata": {},
     "output_type": "execute_result"
    }
   ],
   "source": [
    "ArIV_lines_mask"
   ]
  },
  {
   "cell_type": "markdown",
   "id": "590c8938",
   "metadata": {},
   "source": [
    "### ArV"
   ]
  },
  {
   "cell_type": "code",
   "execution_count": 33,
   "id": "d7ceba41",
   "metadata": {},
   "outputs": [],
   "source": [
    "extra_ArV = extra_line(ArV)\n",
    "ArV_spec = extract_region(spec, extra_ArV)"
   ]
  },
  {
   "cell_type": "code",
   "execution_count": 34,
   "id": "d8c7756d",
   "metadata": {},
   "outputs": [],
   "source": [
    "with warnings.catch_warnings():  # Ignore warnings\n",
    "    warnings.simplefilter('ignore')\n",
    "    ArV_lines = find_lines_threshold(ArV_spec, noise_factor = 3)"
   ]
  },
  {
   "cell_type": "code",
   "execution_count": 35,
   "id": "fa69b647",
   "metadata": {},
   "outputs": [
    {
     "data": {
      "text/html": [
       "<div><i>QTable length=1</i>\n",
       "<table id=\"table140694241745072\" class=\"table-striped table-bordered table-condensed\">\n",
       "<thead><tr><th>line_center</th><th>line_type</th><th>line_center_index</th></tr></thead>\n",
       "<thead><tr><th>Angstrom</th><th></th><th></th></tr></thead>\n",
       "<thead><tr><th>float32</th><th>str8</th><th>int64</th></tr></thead>\n",
       "<tr><td>7004.87060546875</td><td>emission</td><td>30</td></tr>\n",
       "</table></div>"
      ],
      "text/plain": [
       "<QTable length=1>\n",
       "  line_center    line_type line_center_index\n",
       "    Angstrom                                \n",
       "    float32         str8         int64      \n",
       "---------------- --------- -----------------\n",
       "7004.87060546875  emission                30"
      ]
     },
     "execution_count": 35,
     "metadata": {},
     "output_type": "execute_result"
    }
   ],
   "source": [
    "ArV_lines"
   ]
  },
  {
   "cell_type": "code",
   "execution_count": 36,
   "id": "5cf6bf11",
   "metadata": {},
   "outputs": [
    {
     "data": {
      "text/plain": [
       "<Gaussian1D(amplitude=196.99900818 Relative~flux, mean=7004.99072266 Angstrom, stddev=2.98616076 Angstrom)>"
      ]
     },
     "execution_count": 36,
     "metadata": {},
     "output_type": "execute_result"
    }
   ],
   "source": [
    "ArV_region = SpectralRegion(ArV_lines['line_center'] - 5 * u.AA, ArV_lines['line_center'] + 5 * u.AA)\n",
    "sub_spectrum_ArV = extract_region(spec, ArV_region)\n",
    "line_para_ArV = estimate_line_parameters(sub_spectrum_ArV, models.Gaussian1D())\n",
    "line_para_ArV"
   ]
  },
  {
   "cell_type": "code",
   "execution_count": 37,
   "id": "547a6b9f",
   "metadata": {},
   "outputs": [],
   "source": [
    "g_init_ArV = models.Gaussian1D(amplitude=line_para_ArV.amplitude.value * rel_flux , mean=line_para_ArV.mean.value * u.AA , stddev=line_para_ArV.stddev.value * u.AA )\n",
    "g_fit_ArV = fit_lines(spec, g_init_ArV, window=(ArV_lines['line_center'] - 5 * u.AA, ArV_lines['line_center'] + 5 * u.AA))\n",
    "y_fit_ArV = g_fit_ArV(lamb)"
   ]
  },
  {
   "cell_type": "code",
   "execution_count": 38,
   "id": "58bebf60",
   "metadata": {},
   "outputs": [
    {
     "data": {
      "text/plain": [
       "(6904.87060546875, 7104.87060546875)"
      ]
     },
     "execution_count": 38,
     "metadata": {},
     "output_type": "execute_result"
    },
    {
     "data": {
      "image/png": "[encoded data removed]",
      "text/plain": [
       "<Figure size 432x288 with 1 Axes>"
      ]
     },
     "metadata": {
      "needs_background": "light"
     },
     "output_type": "display_data"
    }
   ],
   "source": [
    "plt.plot(wl, Flux, linewidth=5)\n",
    "plt.plot(wl, y_fit_ArV)\n",
    "plt.xlim((ArV_lines['line_center'].value-100), (ArV_lines['line_center'].value+100))"
   ]
  },
  {
   "cell_type": "code",
   "execution_count": null,
   "id": "1e9be1f2",
   "metadata": {},
   "outputs": [],
   "source": []
  },
  {
   "cell_type": "code",
   "execution_count": null,
   "id": "e9f575ee",
   "metadata": {},
   "outputs": [],
   "source": []
  }
 ],
 "metadata": {
  "kernelspec": {
   "display_name": "Python 3 (ipykernel)",
   "language": "python",
   "name": "python3"
  },
  "language_info": {
   "codemirror_mode": {
    "name": "ipython",
    "version": 3
   },
   "file_extension": ".py",
   "mimetype": "text/x-python",
   "name": "python",
   "nbconvert_exporter": "python",
   "pygments_lexer": "ipython3",
   "version": "3.9.7"
  }
 },
 "nbformat": 4,
 "nbformat_minor": 5
}
