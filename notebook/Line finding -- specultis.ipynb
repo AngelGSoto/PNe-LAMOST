{
 "cells": [
  {
   "cell_type": "markdown",
   "id": "f5c0e8f0",
   "metadata": {},
   "source": [
    "There are two techniques implemented in order to find emission and/or absorption lines in a Spectrum1D spectrum.\n",
    "\n",
    "The first technique is find_lines_threshold that will find lines by thresholding the flux based on a factor applied to the spectrum uncertainty. The second technique is find_lines_derivative that will find the lines based on calculating the derivative and then thresholding based on it. Both techniques return an QTable that contains columns line_center, line\\_type and line\\_center\\_index."
   ]
  },
  {
   "cell_type": "code",
   "execution_count": 1,
   "id": "235ab60e",
   "metadata": {},
   "outputs": [],
   "source": [
    "import numpy as np\n",
    "from astropy.modeling import models\n",
    "import astropy.units as u\n",
    "from specutils import Spectrum1D, SpectralRegion\n",
    "from specutils.manipulation import extract_region\n",
    "from specutils.fitting import find_lines_threshold\n",
    "from astropy.io import fits\n",
    "from matplotlib import pyplot as plt\n",
    "from astropy.visualization import quantity_support\n",
    "from astropy.wcs import WCS\n",
    "import warnings\n",
    "with warnings.catch_warnings():  # Ignore warnings\n",
    "    warnings.simplefilter('ignore')"
   ]
  },
  {
   "cell_type": "code",
   "execution_count": 2,
   "id": "2c194769",
   "metadata": {},
   "outputs": [],
   "source": [
    "# OUR PN\n",
    "hdu = fits.open(\"../Spectra-lamostdr7/spec-56581-VB031N50V1_sp08-218.fits\")\n",
    "hdudata = hdu[0].data\n",
    "wl = hdudata[2]\n",
    "Flux = hdudata[0]\n",
    "inve_var = hdudata[1]\n",
    "sigma = 1 / np.sqrt(inve_var)"
   ]
  },
  {
   "cell_type": "code",
   "execution_count": 3,
   "id": "106809e5",
   "metadata": {},
   "outputs": [],
   "source": [
    "import warnings\n",
    "from specutils.manipulation import noise_region_uncertainty\n",
    "from astropy.nddata import StdDevUncertainty"
   ]
  },
  {
   "cell_type": "code",
   "execution_count": 4,
   "id": "aee95122",
   "metadata": {},
   "outputs": [
    {
     "data": {
      "text/plain": [
       "Spectral Region, 1 sub-regions:\n",
       "  (6513.0 Angstrom, 6613.0 Angstrom) "
      ]
     },
     "execution_count": 4,
     "metadata": {},
     "output_type": "execute_result"
    }
   ],
   "source": [
    "ha_region = SpectralRegion((6563-50)*u.AA, (6563+50)*u.AA)\n",
    "ha_region"
   ]
  },
  {
   "cell_type": "code",
   "execution_count": 5,
   "id": "52fe2017",
   "metadata": {},
   "outputs": [
    {
     "data": {
      "text/latex": [
       "$\\mathrm{Relative~flux}$"
      ],
      "text/plain": [
       "Unit(\"Relative~flux\")"
      ]
     },
     "execution_count": 5,
     "metadata": {},
     "output_type": "execute_result"
    }
   ],
   "source": [
    "# Defining units astropy\n",
    "rel_flux = u.def_unit('Relative~flux')\n",
    "rel_flux.decompose()"
   ]
  },
  {
   "cell_type": "code",
   "execution_count": 6,
   "id": "86a05c2b",
   "metadata": {},
   "outputs": [],
   "source": [
    "lamb = wl * u.AA \n",
    "flux = Flux * rel_flux\n",
    "Sigma = StdDevUncertainty(sigma * rel_flux)\n",
    "spec = Spectrum1D(spectral_axis=lamb, flux=flux, uncertainty=Sigma) "
   ]
  },
  {
   "cell_type": "markdown",
   "id": "48bf2831",
   "metadata": {},
   "source": [
    "**Adding uncertanting**"
   ]
  },
  {
   "cell_type": "code",
   "execution_count": 7,
   "id": "25e9629a",
   "metadata": {},
   "outputs": [],
   "source": [
    "#spec = noise_region_uncertainty(spec, noise_region = sigma)"
   ]
  },
  {
   "cell_type": "code",
   "execution_count": 8,
   "id": "04378f76",
   "metadata": {},
   "outputs": [],
   "source": [
    "ha_spec = extract_region(spec, ha_region)"
   ]
  },
  {
   "cell_type": "markdown",
   "id": "677483d2",
   "metadata": {},
   "source": [
    "$\\bf{Finding~the~line}$"
   ]
  },
  {
   "cell_type": "code",
   "execution_count": 12,
   "id": "91a5b2ec",
   "metadata": {},
   "outputs": [],
   "source": [
    "with warnings.catch_warnings():  # Ignore warnings\n",
    "    warnings.simplefilter('ignore')\n",
    "    halpha_lines = find_lines_threshold(ha_spec, noise_factor = 3)"
   ]
  },
  {
   "cell_type": "code",
   "execution_count": 13,
   "id": "1e787c16",
   "metadata": {},
   "outputs": [
    {
     "data": {
      "text/html": [
       "<div><i>QTable length=1</i>\n",
       "<table id=\"table140282144009376\" class=\"table-striped table-bordered table-condensed\">\n",
       "<thead><tr><th>line_center</th><th>line_type</th><th>line_center_index</th></tr></thead>\n",
       "<thead><tr><th>Angstrom</th><th></th><th></th></tr></thead>\n",
       "<thead><tr><th>float32</th><th>str8</th><th>int64</th></tr></thead>\n",
       "<tr><td>6561.45458984375</td><td>emission</td><td>32</td></tr>\n",
       "</table></div>"
      ],
      "text/plain": [
       "<QTable length=1>\n",
       "  line_center    line_type line_center_index\n",
       "    Angstrom                                \n",
       "    float32         str8         int64      \n",
       "---------------- --------- -----------------\n",
       "6561.45458984375  emission                32"
      ]
     },
     "execution_count": 13,
     "metadata": {},
     "output_type": "execute_result"
    }
   ],
   "source": [
    "halpha_lines"
   ]
  },
  {
   "cell_type": "markdown",
   "id": "ffd30c4b",
   "metadata": {},
   "source": [
    "# #SNR"
   ]
  },
  {
   "cell_type": "code",
   "execution_count": 14,
   "id": "ecf45abc",
   "metadata": {},
   "outputs": [
    {
     "data": {
      "text/latex": [
       "$3.4997768 \\; \\mathrm{}$"
      ],
      "text/plain": [
       "<Quantity 3.4997768>"
      ]
     },
     "execution_count": 14,
     "metadata": {},
     "output_type": "execute_result"
    }
   ],
   "source": [
    "from specutils.analysis import snr\n",
    "snr(spec) "
   ]
  },
  {
   "cell_type": "code",
   "execution_count": null,
   "id": "b0d304e7",
   "metadata": {},
   "outputs": [],
   "source": []
  }
 ],
 "metadata": {
  "kernelspec": {
   "display_name": "Python 3 (ipykernel)",
   "language": "python",
   "name": "python3"
  },
  "language_info": {
   "codemirror_mode": {
    "name": "ipython",
    "version": 3
   },
   "file_extension": ".py",
   "mimetype": "text/x-python",
   "name": "python",
   "nbconvert_exporter": "python",
   "pygments_lexer": "ipython3",
   "version": "3.8.5"
  }
 },
 "nbformat": 4,
 "nbformat_minor": 5
}
