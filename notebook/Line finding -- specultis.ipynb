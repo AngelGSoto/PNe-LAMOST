{
 "cells": [
  {
   "cell_type": "markdown",
   "id": "f5c0e8f0",
   "metadata": {},
   "source": [
    "There are two techniques implemented in order to find emission and/or absorption lines in a Spectrum1D spectrum.\n",
    "\n",
    "The first technique is find_lines_threshold that will find lines by thresholding the flux based on a factor applied to the spectrum uncertainty. The second technique is find_lines_derivative that will find the lines based on calculating the derivative and then thresholding based on it. Both techniques return an QTable that contains columns line_center, line\\_type and line\\_center\\_index."
   ]
  },
  {
   "cell_type": "code",
   "execution_count": 1,
   "id": "235ab60e",
   "metadata": {},
   "outputs": [],
   "source": [
    "import numpy as np\n",
    "from astropy.modeling import models\n",
    "import astropy.units as u\n",
    "from specutils import Spectrum1D, SpectralRegion\n",
    "from specutils.manipulation import extract_region\n",
    "from specutils.fitting import find_lines_threshold\n",
    "from astropy.io import fits\n",
    "from matplotlib import pyplot as plt\n",
    "from astropy.visualization import quantity_support\n",
    "from astropy.wcs import WCS\n",
    "import warnings\n",
    "with warnings.catch_warnings():  # Ignore warnings\n",
    "    warnings.simplefilter('ignore')"
   ]
  },
  {
   "cell_type": "code",
   "execution_count": 2,
   "id": "2c194769",
   "metadata": {},
   "outputs": [],
   "source": [
    "# OUR PN\n",
    "hdu = fits.open(\"../Spectra-lamostdr7/spec-56581-VB031N50V1_sp08-218.fits\")\n",
    "hdudata = hdu[0].data\n",
    "wl = hdudata[2]\n",
    "Flux = hdudata[0]\n",
    "inve_var = hdudata[1]\n",
    "sigma = 1 / np.sqrt(inve_var)"
   ]
  },
  {
   "cell_type": "code",
   "execution_count": 3,
   "id": "a8a2fae1",
   "metadata": {},
   "outputs": [
    {
     "data": {
      "text/plain": [
       "SIMPLE  =                    T /Primary Header created by MWRFITS v1.11b        \n",
       "BITPIX  =                  -32 /                                                \n",
       "NAXIS   =                    2 / Number of array dimensions                     \n",
       "NAXIS1  =                 3909 /                                                \n",
       "NAXIS2  =                    5 /                                                \n",
       "EXTEND  =                    T /                                                \n",
       "                                                                                \n",
       "COMMENT --------FILE INFORMATION                                                \n",
       "FILENAME= 'spec-56581-VB031N50V1_sp08-218.fits' /                               \n",
       "OBSID   =            165008218 / Unique number ID of this spectrum              \n",
       "AUTHOR  = 'LAMOST Pipeline'    / Who compiled the information                   \n",
       "DATA_V  = 'LAMOST DR7'         / Data release version                           \n",
       "EXTEN0  = 'Flux, Inverse, Wavelength, Andmask, Ormask' /                        \n",
       "N_EXTEN =                    1 / The extension number                           \n",
       "EXTNAME = 'Flux    '           / The extension name                             \n",
       "ORIGIN  = 'NAOC-LAMOST'        / Organization responsible for creating this file\n",
       "DATE    = '2021-09-17T11:34:01' / Time when this HDU is created (UTC)           \n",
       "COMMENT --------TELESCOPE PARAMETERS                                            \n",
       "TELESCOP= 'LAMOST  '           / GuoShouJing Telescope                          \n",
       "LONGITUD=               117.58 / [deg] Longitude of site                        \n",
       "LATITUDE=                40.39 / [deg] Latitude of site                         \n",
       "FOCUS   =                19964 / [mm] Telescope focus                           \n",
       "CAMPRO  = 'NEWCAM  '           / Camera program name                            \n",
       "CAMVER  = 'v2.0    '           / Camera program version                         \n",
       "COMMENT --------OBSERVATION PARAMETERS                                          \n",
       "DATE-OBS= '2013-10-15T17:28:00' / The observation median UTC                    \n",
       "DATE-BEG= '2013-10-16T01:15:07.0' / The observation start local time            \n",
       "DATE-END= '2013-10-16T01:41:41.0' / The observation end local time              \n",
       "LMJD    =                56581 / Local Modified Julian Day                      \n",
       "MJD     =                56580 / Modified Julian Day                            \n",
       "LMJMLIST= '81476715-81476731'  / Local Modified Julian Minute list              \n",
       "PLANID  = 'VB031N50V1'         / Plan ID in use                                 \n",
       "RA      =            32.035994 / [deg] Right ascension of object                \n",
       "DEC     =            49.233615 / [deg] Declination of object                    \n",
       "RA_OBS  =            32.035994 / [deg] Right ascension during observing         \n",
       "DEC_OBS =            49.233615 / [deg] Declination during observing             \n",
       "OFFSET  =                    F / Whether there's a offset during observing      \n",
       "OFFSET_V=                 0.00 / Offset value in arcsecond                      \n",
       "DESIG   = 'LAMOST J020808.63+491401.0' / Designation of LAMOST target           \n",
       "FIBERID =                  218 / Fiber ID of Object                             \n",
       "CELL_ID = 'F1823   '           / Fiber Unit ID on the focal plane               \n",
       "X_VALUE = '-152.5938268980'    / [mm] X coordinate of object on the focal plane \n",
       "Y_VALUE = '489.0761880430'     / [mm] Y coordinate of object on the focal plane \n",
       "OBJNAME = 'P020808.63+491401.0' / Name of object                                \n",
       "OBJTYPE = 'star    '           / Object type from input catalog                 \n",
       "TSOURCE = 'PILOT   '           / Name of input catalog                          \n",
       "TCOMMENT= 'VB0205+5038_V1'     / Target information                             \n",
       "TFROM   = '        '           / Target catalog                                 \n",
       "FIBERTYP= 'Obj     '           / Fiber type of object                           \n",
       "FIBERMAS=                  128 / Bitmask of warning values, 0 means all is well \n",
       "MAGTYPE = 'brijhk  '           / Magnitude type of object                       \n",
       "MAG1    =                15.87 / [mag] Mag1 of object                           \n",
       "MAG2    =                99.00 / [mag] Mag2 of object                           \n",
       "MAG3    =                14.06 / [mag] Mag3 of object                           \n",
       "MAG4    =                18.17 / [mag] Mag4 of object                           \n",
       "MAG5    =                99.00 / [mag] Mag5 of object                           \n",
       "MAG6    =                99.00 / [mag] Mag6 of object                           \n",
       "MAG7    =                99.00 / [mag] Mag7 of object                           \n",
       "OBS_TYPE= 'OBJ     '           / The type of target (OBJ, FLAT, ARC or BIAS)    \n",
       "OBSCOMM = 'Science '           / Science or Test                                \n",
       "RADECSYS= 'FK5     '           / Equatorial coordinate system                   \n",
       "EQUINOX =              2000.00 / Equinox in years                               \n",
       "LAMPLIST= 'lamphgcdne.dat'     / Arc lamp emission line list                    \n",
       "SKYLIST = 'skylines.dat'       / Sky emission line list                         \n",
       "NEXP    =                    2 / Number of valid exposures                      \n",
       "NEXP_B  =                    2 / Number of valid blue exposures                 \n",
       "NEXP_R  =                    2 / Number of valid red exposures                  \n",
       "EXPT_B  =              1200.00 / [s] Blue exposure duration time                \n",
       "EXPT_R  =              1200.00 / [s] Red exposure duration time                 \n",
       "EXPTIME =              1200.00 / [s] Minimum of exposure time for all cameras   \n",
       "BESTEXP =             81476715 / LMJM of the best exposure                      \n",
       "SCAMEAN =                25.90 / [ADU] Mean level of scatter light              \n",
       "COMMENT --------SPECTROGRAPH PARAMETERS                                         \n",
       "SPID    =                    8 / Spectrograph ID                                \n",
       "SPRA    =           32.6458349 / [deg] Average RA of this spectrograph          \n",
       "SPDEC   =           49.9552557 / [deg] Average DEC of this spectrograph         \n",
       "SLIT_MOD= 'x2/3    '           / Slit mode, x1, x2/3 or x1/2                    \n",
       "COMMENT --------WEATHER CONDITION                                               \n",
       "TEMPCCDB=              -196.40 / [deg] The temperature of blue CCD              \n",
       "TEMPCCDR=              -110.20 / [deg] The temperature of red CCD               \n",
       "SEEING  =                 3.60 / [arcsec] Seeing during exposure                \n",
       "MOONPHA =                11.44 / [day] Moon phase for a 29.53 days period       \n",
       "TEMP_AIR= '        '           / [deg] Temperature outside dome                 \n",
       "TEMP_FP = '        '           / [degree celsius] Temprature of the focalplane  \n",
       "DEWPOINT= '        '           / [deg]                                          \n",
       "DUST    = '        '           / Reservation                                    \n",
       "HUMIDITY= '        '           /                                                \n",
       "WINDD   =                 0.00 / [deg] Wind direction                           \n",
       "WINDS   =                 0.00 / [m/s] Wind speed                               \n",
       "SKYLEVEL= '        '           / Reservation                                    \n",
       "COMMENT --------DATA REDUCTION PARAMETERS                                       \n",
       "EXTRACT = 'aperture'           / Extraction method                              \n",
       "SFLATTEN=                    T / Super flat has been applied                    \n",
       "PCASKYSB=                    T / PCA sky-subtraction has been applied           \n",
       "NSKIES  =                   28 / Sky fiber number                               \n",
       "SKYCHI2 =                  3.2 / Mean chi^2 of sky-subtraction                  \n",
       "SCHI2MIN=                  1.5 / Minimum chi^2 of sky-subtraction               \n",
       "SCHI2MAX=                  5.8 / Maximum chi^2 of sky-subtraction               \n",
       "NSTD    =                    9 / Number of (good) standard stars                \n",
       "FSTAR   = '239-26-69-51-198-179-168-204-46' / FiberID of flux standard stars    \n",
       "FCBY    = 'auto    '           / Standard stars origin (auto, manual or catalog)\n",
       "HELIO   =                    T / Heliocentric correction                        \n",
       "HELIO_RV=            -10.41536 / [km/s] Heliocentric correction                 \n",
       "VACUUM  =                    T / Wavelengths are in vacuum                      \n",
       "NWORDER =                    2 / Number of linear-log10 coefficients            \n",
       "WFITTYPE= 'LOG-LINEAR'         / Linear-log10 dispersion                        \n",
       "COEFF0  =               3.5682 / Central wavelength (log10) of first pixel      \n",
       "COEFF1  =               0.0001 / Log10 dispersion per pixel                     \n",
       "WAT0_001= 'system=linear'      /                                                \n",
       "WAT1_001= 'wtype=linear label=Wavelength units=Angstroms' /                     \n",
       "CRVAL1  =               3.5682 / Central wavelength (log10) of first pixel      \n",
       "CD1_1   =               0.0001 / Log10 dispersion per pixel                     \n",
       "CRPIX1  =                    1 / Starting pixel (1-indexed)                     \n",
       "CTYPE1  = 'LINEAR  '           /                                                \n",
       "DC-FLAG =                    1 / Log-linear flag                                \n",
       "COMMENT --------SPECTRA ANALYSIS RESULTS                                        \n",
       "VERSPIPE= 'v2.9.8  '           / Version of Pipeline                            \n",
       "CLASS   = 'Unknown '           / Class of object                                \n",
       "SUBCLASS= 'Non     '           / Subclass of object                             \n",
       "Z       =                -9999 / Redshift of object                             \n",
       "Z_ERR   =                -9999 / Redshift error of object                       \n",
       "ZFLAG   = 'PIPELINE'           / Which method computes the redshift             \n",
       "SNRU    =                 0.63 / SNR of u filter                                \n",
       "SNRG    =                 1.53 / SNR of g filter                                \n",
       "SNRR    =                 5.29 / SNR of r filter                                \n",
       "SNRI    =                 5.89 / SNR of i filter                                \n",
       "SNRZ    =                 3.38 / SNR of z filter                                "
      ]
     },
     "execution_count": 3,
     "metadata": {},
     "output_type": "execute_result"
    }
   ],
   "source": [
    "hdu[0].header"
   ]
  },
  {
   "cell_type": "code",
   "execution_count": 4,
   "id": "106809e5",
   "metadata": {},
   "outputs": [],
   "source": [
    "import warnings\n",
    "from specutils.manipulation import noise_region_uncertainty\n",
    "from astropy.nddata import StdDevUncertainty"
   ]
  },
  {
   "cell_type": "code",
   "execution_count": 5,
   "id": "aee95122",
   "metadata": {},
   "outputs": [
    {
     "data": {
      "text/plain": [
       "Spectral Region, 1 sub-regions:\n",
       "  (6513.0 Angstrom, 6613.0 Angstrom) "
      ]
     },
     "execution_count": 5,
     "metadata": {},
     "output_type": "execute_result"
    }
   ],
   "source": [
    "ha_region = SpectralRegion((6563-50)*u.AA, (6563+50)*u.AA)\n",
    "ha_region"
   ]
  },
  {
   "cell_type": "code",
   "execution_count": 6,
   "id": "52fe2017",
   "metadata": {},
   "outputs": [
    {
     "data": {
      "text/latex": [
       "$\\mathrm{Relative~flux}$"
      ],
      "text/plain": [
       "Unit(\"Relative~flux\")"
      ]
     },
     "execution_count": 6,
     "metadata": {},
     "output_type": "execute_result"
    }
   ],
   "source": [
    "# Defining units astropy\n",
    "rel_flux = u.def_unit('Relative~flux')\n",
    "rel_flux.decompose()"
   ]
  },
  {
   "cell_type": "code",
   "execution_count": 7,
   "id": "86a05c2b",
   "metadata": {},
   "outputs": [],
   "source": [
    "lamb = wl * u.AA \n",
    "flux = Flux * rel_flux\n",
    "Sigma = StdDevUncertainty(sigma * rel_flux)\n",
    "spec = Spectrum1D(spectral_axis=lamb, flux=flux, uncertainty=Sigma) "
   ]
  },
  {
   "cell_type": "markdown",
   "id": "48bf2831",
   "metadata": {},
   "source": [
    "**Adding uncertanting**"
   ]
  },
  {
   "cell_type": "code",
   "execution_count": 8,
   "id": "25e9629a",
   "metadata": {},
   "outputs": [],
   "source": [
    "#spec = noise_region_uncertainty(spec, noise_region = sigma)"
   ]
  },
  {
   "cell_type": "code",
   "execution_count": 9,
   "id": "04378f76",
   "metadata": {},
   "outputs": [],
   "source": [
    "ha_spec = extract_region(spec, ha_region)"
   ]
  },
  {
   "cell_type": "markdown",
   "id": "677483d2",
   "metadata": {},
   "source": [
    "$\\bf{Finding~the~line}$"
   ]
  },
  {
   "cell_type": "code",
   "execution_count": 10,
   "id": "91a5b2ec",
   "metadata": {},
   "outputs": [],
   "source": [
    "with warnings.catch_warnings():  # Ignore warnings\n",
    "    warnings.simplefilter('ignore')\n",
    "    halpha_lines = find_lines_threshold(ha_spec, noise_factor = 3)"
   ]
  },
  {
   "cell_type": "code",
   "execution_count": 11,
   "id": "1e787c16",
   "metadata": {},
   "outputs": [
    {
     "data": {
      "text/html": [
       "<div><i>QTable length=1</i>\n",
       "<table id=\"table140570087590592\" class=\"table-striped table-bordered table-condensed\">\n",
       "<thead><tr><th>line_center</th><th>line_type</th><th>line_center_index</th></tr></thead>\n",
       "<thead><tr><th>Angstrom</th><th></th><th></th></tr></thead>\n",
       "<thead><tr><th>float32</th><th>str8</th><th>int64</th></tr></thead>\n",
       "<tr><td>6561.45458984375</td><td>emission</td><td>32</td></tr>\n",
       "</table></div>"
      ],
      "text/plain": [
       "<QTable length=1>\n",
       "  line_center    line_type line_center_index\n",
       "    Angstrom                                \n",
       "    float32         str8         int64      \n",
       "---------------- --------- -----------------\n",
       "6561.45458984375  emission                32"
      ]
     },
     "execution_count": 11,
     "metadata": {},
     "output_type": "execute_result"
    }
   ],
   "source": [
    "halpha_lines"
   ]
  },
  {
   "cell_type": "markdown",
   "id": "ffd30c4b",
   "metadata": {},
   "source": [
    "# #SNR"
   ]
  },
  {
   "cell_type": "code",
   "execution_count": 12,
   "id": "ecf45abc",
   "metadata": {},
   "outputs": [
    {
     "data": {
      "text/latex": [
       "$3.4997768 \\; \\mathrm{}$"
      ],
      "text/plain": [
       "<Quantity 3.4997768>"
      ]
     },
     "execution_count": 12,
     "metadata": {},
     "output_type": "execute_result"
    }
   ],
   "source": [
    "from specutils.analysis import snr\n",
    "snr(spec) "
   ]
  },
  {
   "cell_type": "markdown",
   "id": "9e7011d8",
   "metadata": {},
   "source": [
    "## All spectra"
   ]
  },
  {
   "cell_type": "code",
   "execution_count": 68,
   "id": "fbaaedd8",
   "metadata": {},
   "outputs": [
    {
     "name": "stderr",
     "output_type": "stream",
     "text": [
      "No artists with labels found to put in legend.  Note that artists whose label start with an underscore are ignored when legend() is called with no argument.\n"
     ]
    },
    {
     "data": {
      "image/png": "[encoded data removed]",
      "text/plain": [
       "<Figure size 1152x720 with 1 Axes>"
      ]
     },
     "metadata": {
      "needs_background": "light"
     },
     "output_type": "display_data"
    }
   ],
   "source": [
    "plt.figure(figsize=(16,10))\n",
    "plt.plot(wl, Flux)#, label = 'total')\n",
    "plt.xlim((3500, 9000))\n",
    "#plt.ylim((-0.1, 10e-9))\n",
    "plt.axvline(3840, c='k')\n",
    "plt.axvline(8950, c='k')\n",
    "plt.axvline(4731.513671875, c='r')\n",
    "plt.xlabel('Angstrom')\n",
    "plt.ylabel('Flux')\n",
    "plt.legend(loc=4);"
   ]
  },
  {
   "cell_type": "code",
   "execution_count": 26,
   "id": "6e10f8fa",
   "metadata": {},
   "outputs": [],
   "source": [
    "spec_region = SpectralRegion(3840*u.AA, 8950*u.AA)"
   ]
  },
  {
   "cell_type": "code",
   "execution_count": 27,
   "id": "15e41f34",
   "metadata": {},
   "outputs": [],
   "source": [
    "extra_spec = extract_region(spec, spec_region)"
   ]
  },
  {
   "cell_type": "code",
   "execution_count": 62,
   "id": "3ebe7351",
   "metadata": {},
   "outputs": [],
   "source": [
    "with warnings.catch_warnings():  # Ignore warnings\n",
    "    warnings.simplefilter('ignore')\n",
    "    extra_lines = find_lines_threshold(extra_spec, noise_factor = 3)"
   ]
  },
  {
   "cell_type": "code",
   "execution_count": 63,
   "id": "042447a1",
   "metadata": {},
   "outputs": [
    {
     "data": {
      "text/html": [
       "<div><i>QTable length=89</i>\n",
       "<table id=\"table140570077098048\" class=\"table-striped table-bordered table-condensed\">\n",
       "<thead><tr><th>line_center</th><th>line_type</th><th>line_center_index</th></tr></thead>\n",
       "<thead><tr><th>Angstrom</th><th></th><th></th></tr></thead>\n",
       "<thead><tr><th>float32</th><th>str8</th><th>int64</th></tr></thead>\n",
       "<tr><td>3867.23095703125</td><td>emission</td><td>30</td></tr>\n",
       "<tr><td>3869.01220703125</td><td>emission</td><td>32</td></tr>\n",
       "<tr><td>3969.173828125</td><td>emission</td><td>143</td></tr>\n",
       "<tr><td>4101.09765625</td><td>emission</td><td>285</td></tr>\n",
       "<tr><td>4272.67724609375</td><td>emission</td><td>463</td></tr>\n",
       "<tr><td>4308.2421875</td><td>emission</td><td>499</td></tr>\n",
       "<tr><td>4323.14794921875</td><td>emission</td><td>514</td></tr>\n",
       "<tr><td>...</td><td>...</td><td>...</td></tr>\n",
       "<tr><td>8816.5791015625</td><td>emission</td><td>3609</td></tr>\n",
       "<tr><td>8822.671875</td><td>emission</td><td>3612</td></tr>\n",
       "<tr><td>8843.009765625</td><td>emission</td><td>3622</td></tr>\n",
       "<tr><td>8853.1962890625</td><td>emission</td><td>3627</td></tr>\n",
       "<tr><td>8863.3955078125</td><td>emission</td><td>3632</td></tr>\n",
       "<tr><td>8877.6923828125</td><td>emission</td><td>3639</td></tr>\n",
       "<tr><td>8896.109375</td><td>emission</td><td>3648</td></tr>\n",
       "<tr><td>8912.51171875</td><td>emission</td><td>3656</td></tr>\n",
       "</table></div>"
      ],
      "text/plain": [
       "<QTable length=89>\n",
       "  line_center    line_type line_center_index\n",
       "    Angstrom                                \n",
       "    float32         str8         int64      \n",
       "---------------- --------- -----------------\n",
       "3867.23095703125  emission                30\n",
       "3869.01220703125  emission                32\n",
       "  3969.173828125  emission               143\n",
       "   4101.09765625  emission               285\n",
       "4272.67724609375  emission               463\n",
       "    4308.2421875  emission               499\n",
       "4323.14794921875  emission               514\n",
       "             ...       ...               ...\n",
       " 8816.5791015625  emission              3609\n",
       "     8822.671875  emission              3612\n",
       "  8843.009765625  emission              3622\n",
       " 8853.1962890625  emission              3627\n",
       " 8863.3955078125  emission              3632\n",
       " 8877.6923828125  emission              3639\n",
       "     8896.109375  emission              3648\n",
       "   8912.51171875  emission              3656"
      ]
     },
     "execution_count": 63,
     "metadata": {},
     "output_type": "execute_result"
    }
   ],
   "source": [
    "extra_lines"
   ]
  },
  {
   "cell_type": "code",
   "execution_count": 64,
   "id": "62879a47",
   "metadata": {},
   "outputs": [
    {
     "name": "stderr",
     "output_type": "stream",
     "text": [
      "No artists with labels found to put in legend.  Note that artists whose label start with an underscore are ignored when legend() is called with no argument.\n"
     ]
    },
    {
     "data": {
      "image/png": "[encoded data removed]",
      "text/plain": [
       "<Figure size 1152x720 with 1 Axes>"
      ]
     },
     "metadata": {
      "needs_background": "light"
     },
     "output_type": "display_data"
    }
   ],
   "source": [
    "plt.figure(figsize=(16,10))\n",
    "plt.plot(wl, Flux)#, label = 'total')\n",
    "plt.xlim((3500, 9000))\n",
    "#plt.ylim((-0.1, 10e-9))\n",
    "for i in extra_lines[\"line_center\"].value:\n",
    "    plt.axvline(i, c='k')\n",
    "plt.xlabel('Angstrom')\n",
    "plt.ylabel('Flux')\n",
    "plt.legend(loc=4);"
   ]
  },
  {
   "cell_type": "code",
   "execution_count": 49,
   "id": "de419346",
   "metadata": {},
   "outputs": [
    {
     "data": {
      "text/latex": [
       "$[4101.0977,~4340.1035,~4684.8975,~4860.7144,~4957.9268,~5006.1069,~5411.2812,~6532.811,~6561.4546,~7004.8706,~7110.4995,~7582.2852,~7591.0195] \\; \\mathrm{\\mathring{A}}$"
      ],
      "text/plain": [
       "<Quantity [4101.0977, 4340.1035, 4684.8975, 4860.7144, 4957.927 ,\n",
       "           5006.107 , 5411.2812, 6532.811 , 6561.4546, 7004.8706,\n",
       "           7110.4995, 7582.285 , 7591.0195] Angstrom>"
      ]
     },
     "execution_count": 49,
     "metadata": {},
     "output_type": "execute_result"
    }
   ],
   "source": [
    "extra_lines[\"line_center\"]"
   ]
  },
  {
   "cell_type": "code",
   "execution_count": 51,
   "id": "84bbd4c6",
   "metadata": {},
   "outputs": [
    {
     "name": "stdout",
     "output_type": "stream",
     "text": [
      "4101.0977\n",
      "4340.1035\n",
      "4684.8975\n",
      "4860.7144\n",
      "4957.927\n",
      "5006.107\n",
      "5411.2812\n",
      "6532.811\n",
      "6561.4546\n",
      "7004.8706\n",
      "7110.4995\n",
      "7582.285\n",
      "7591.0195\n"
     ]
    }
   ],
   "source": [
    "for i in extra_lines[\"line_center\"].value:\n",
    "    print(i)"
   ]
  },
  {
   "cell_type": "code",
   "execution_count": null,
   "id": "f3656215",
   "metadata": {},
   "outputs": [],
   "source": []
  }
 ],
 "metadata": {
  "kernelspec": {
   "display_name": "Python 3 (ipykernel)",
   "language": "python",
   "name": "python3"
  },
  "language_info": {
   "codemirror_mode": {
    "name": "ipython",
    "version": 3
   },
   "file_extension": ".py",
   "mimetype": "text/x-python",
   "name": "python",
   "nbconvert_exporter": "python",
   "pygments_lexer": "ipython3",
   "version": "3.9.7"
  }
 },
 "nbformat": 4,
 "nbformat_minor": 5
}
