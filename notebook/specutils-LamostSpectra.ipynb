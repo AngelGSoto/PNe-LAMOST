{
 "cells": [
  {
   "cell_type": "code",
   "execution_count": 1,
   "id": "942c4072",
   "metadata": {},
   "outputs": [
    {
     "data": {
      "text/plain": [
       "<astropy.visualization.units.quantity_support.<locals>.MplQuantityConverter at 0x7f85b23d2550>"
      ]
     },
     "execution_count": 1,
     "metadata": {},
     "output_type": "execute_result"
    }
   ],
   "source": [
    "from astropy.io import fits\n",
    "from astropy import units as u\n",
    "import numpy as np\n",
    "from matplotlib import pyplot as plt\n",
    "from astropy.visualization import quantity_support\n",
    "from astropy.wcs import WCS\n",
    "# specutils packages\n",
    "from specutils import Spectrum1D\n",
    "from specutils.analysis import line_flux\n",
    "from specutils.fitting import fit_generic_continuum\n",
    "from specutils import SpectralRegion\n",
    "from specutils.analysis import equivalent_width\n",
    "from specutils.analysis import centroid\n",
    "from specutils.analysis import moment\n",
    "import warnings\n",
    "with warnings.catch_warnings():  # Ignore warnings\n",
    "    warnings.simplefilter('ignore')\n",
    "quantity_support()"
   ]
  },
  {
   "cell_type": "code",
   "execution_count": 19,
   "id": "5b715153",
   "metadata": {},
   "outputs": [],
   "source": [
    "# OUR PN\n",
    "hdu = fits.open(\"../Spectra-lamostdr7/spec-56581-VB031N50V1_sp08-218.fits\")\n",
    "hdudata = hdu[0].data\n",
    "wl = hdudata[2]\n",
    "Flux = hdudata[0]"
   ]
  },
  {
   "cell_type": "code",
   "execution_count": 20,
   "id": "adff3941",
   "metadata": {},
   "outputs": [
    {
     "data": {
      "text/latex": [
       "$\\mathrm{Relative~flux}$"
      ],
      "text/plain": [
       "Unit(\"Relative~flux\")"
      ]
     },
     "execution_count": 20,
     "metadata": {},
     "output_type": "execute_result"
    }
   ],
   "source": [
    "# Defining units astropy\n",
    "rel_flux = u.def_unit('Relative~flux')\n",
    "rel_flux.decompose()"
   ]
  },
  {
   "cell_type": "markdown",
   "id": "8c8afb99",
   "metadata": {},
   "source": [
    "Re-format this dataset into astropy quantities"
   ]
  },
  {
   "cell_type": "code",
   "execution_count": 21,
   "id": "d795a37a",
   "metadata": {},
   "outputs": [],
   "source": [
    "lamb = wl * u.AA \n",
    "flux = Flux * rel_flux\n",
    "spec = Spectrum1D(spectral_axis=lamb, flux=flux) "
   ]
  },
  {
   "cell_type": "code",
   "execution_count": 22,
   "id": "0f7a2595",
   "metadata": {},
   "outputs": [
    {
     "data": {
      "text/plain": [
       "[<matplotlib.lines.Line2D at 0x7f85b1d33670>]"
      ]
     },
     "execution_count": 22,
     "metadata": {},
     "output_type": "execute_result"
    },
    {
     "data": {
      "image/png": "[encoded data removed]",
      "text/plain": [
       "<Figure size 432x288 with 1 Axes>"
      ]
     },
     "metadata": {
      "needs_background": "light"
     },
     "output_type": "display_data"
    }
   ],
   "source": [
    "f, ax = plt.subplots()  \n",
    "ax.step(spec.spectral_axis, spec.flux) "
   ]
  },
  {
   "cell_type": "markdown",
   "id": "197e40e8",
   "metadata": {},
   "source": [
    "**Now maybe you want the equivalent width of a spectral line. That requires normalizing by a continuum estimate:**"
   ]
  },
  {
   "cell_type": "code",
   "execution_count": 23,
   "id": "986c1e5e",
   "metadata": {},
   "outputs": [
    {
     "name": "stderr",
     "output_type": "stream",
     "text": [
      "WARNING: Model is linear in parameters; consider using linear fitting methods. [astropy.modeling.fitting]\n"
     ]
    }
   ],
   "source": [
    "cont_norm_spec = spec / fit_generic_continuum(spec)(spec.spectral_axis) "
   ]
  },
  {
   "cell_type": "code",
   "execution_count": 24,
   "id": "48448616",
   "metadata": {},
   "outputs": [
    {
     "data": {
      "text/plain": [
       "(6539.999999999999, 6569.999999999999)"
      ]
     },
     "execution_count": 24,
     "metadata": {},
     "output_type": "execute_result"
    },
    {
     "data": {
      "image/png": "[encoded data removed]",
      "text/plain": [
       "<Figure size 432x288 with 1 Axes>"
      ]
     },
     "metadata": {
      "needs_background": "light"
     },
     "output_type": "display_data"
    }
   ],
   "source": [
    "f, ax = plt.subplots()  \n",
    "ax.step(cont_norm_spec.wavelength, cont_norm_spec.flux)  \n",
    "ax.set_xlim(654 * u.nm, 657 * u.nm)  "
   ]
  },
  {
   "cell_type": "code",
   "execution_count": 25,
   "id": "ff191107",
   "metadata": {},
   "outputs": [
    {
     "data": {
      "text/latex": [
       "$-142.27066 \\; \\mathrm{\\mathring{A}}$"
      ],
      "text/plain": [
       "<Quantity -142.27065999 Angstrom>"
      ]
     },
     "execution_count": 25,
     "metadata": {},
     "output_type": "execute_result"
    }
   ],
   "source": [
    "equivalent_width(cont_norm_spec, regions=SpectralRegion(6556 * u.AA,  6569* u.AA)) "
   ]
  },
  {
   "cell_type": "markdown",
   "id": "d2c2507c",
   "metadata": {},
   "source": [
    "### Line Flux Estimates"
   ]
  },
  {
   "cell_type": "code",
   "execution_count": 26,
   "id": "cb161547",
   "metadata": {},
   "outputs": [
    {
     "data": {
      "text/latex": [
       "$21404.367 \\; \\mathrm{\\mathring{A}\\,Relative~flux}$"
      ],
      "text/plain": [
       "<Quantity 21404.36737107 Angstrom Relative~flux>"
      ]
     },
     "execution_count": 26,
     "metadata": {},
     "output_type": "execute_result"
    }
   ],
   "source": [
    "line_flux(spec, regions=SpectralRegion(6556 * u.AA,  6569* u.AA))  "
   ]
  },
  {
   "cell_type": "code",
   "execution_count": 27,
   "id": "728db187",
   "metadata": {},
   "outputs": [
    {
     "data": {
      "text/latex": [
       "$6562.2637 \\; \\mathrm{\\mathring{A}}$"
      ],
      "text/plain": [
       "<Quantity 6562.2637 Angstrom>"
      ]
     },
     "execution_count": 27,
     "metadata": {},
     "output_type": "execute_result"
    }
   ],
   "source": [
    "centroid(spec, regions=SpectralRegion(6556 * u.AA,  6569* u.AA))  "
   ]
  },
  {
   "cell_type": "markdown",
   "id": "69e4a682",
   "metadata": {},
   "source": [
    "# Line/Spectrum Fitting"
   ]
  },
  {
   "cell_type": "markdown",
   "id": "64f34b32",
   "metadata": {},
   "source": [
    "## Parameter Estimation"
   ]
  },
  {
   "cell_type": "code",
   "execution_count": 34,
   "id": "b5cdaa4d",
   "metadata": {},
   "outputs": [],
   "source": [
    "from specutils.fitting import estimate_line_parameters\n",
    "from specutils.manipulation import extract_region\n",
    "from astropy.modeling import models"
   ]
  },
  {
   "cell_type": "code",
   "execution_count": 35,
   "id": "dbe55914",
   "metadata": {},
   "outputs": [],
   "source": [
    "sub_region = SpectralRegion(6556 * u.AA,  6569* u.AA)\n",
    "sub_spectrum = extract_region(spec, sub_region)"
   ]
  },
  {
   "cell_type": "code",
   "execution_count": 36,
   "id": "1ea7ef7d",
   "metadata": {},
   "outputs": [
    {
     "data": {
      "text/plain": [
       "[<matplotlib.lines.Line2D at 0x7f85afb5b730>]"
      ]
     },
     "execution_count": 36,
     "metadata": {},
     "output_type": "execute_result"
    },
    {
     "data": {
      "image/png": "[encoded data removed]",
      "text/plain": [
       "<Figure size 432x288 with 1 Axes>"
      ]
     },
     "metadata": {
      "needs_background": "light"
     },
     "output_type": "display_data"
    }
   ],
   "source": [
    "f, ax = plt.subplots()  \n",
    "ax.step(sub_spectrum.spectral_axis, sub_spectrum.flux) "
   ]
  },
  {
   "cell_type": "code",
   "execution_count": 37,
   "id": "7a79e2d4",
   "metadata": {},
   "outputs": [
    {
     "name": "stdout",
     "output_type": "stream",
     "text": [
      "Model: Gaussian1D\n",
      "Inputs: ('x',)\n",
      "Outputs: ('y',)\n",
      "Model set size: 1\n",
      "Parameters:\n",
      "       amplitude          mean            stddev      \n",
      "     Relative~flux      Angstrom         Angstrom     \n",
      "    ---------------- -------------- ------------------\n",
      "    4004.78369140625 6562.263671875 2.0181450843811035\n"
     ]
    }
   ],
   "source": [
    "print(estimate_line_parameters(sub_spectrum, models.Gaussian1D())) "
   ]
  },
  {
   "cell_type": "markdown",
   "id": "24563f52",
   "metadata": {},
   "source": [
    "If an Model is used that does not have the predefined parameter estimators, or if one wants to use different parameter estimators then one can create a dictionary where the key is the parameter name and the value is a function that operates on a spectrum (lambda functions are very useful for this purpose). For example if one wants to estimate the line parameters of a line fit for a RickerWavelet1D one can define the estimators dictionary and use it to populate the estimator attribute of the model’s parameters:"
   ]
  },
  {
   "cell_type": "markdown",
   "id": "2a7a9d42",
   "metadata": {},
   "source": [
    "## Model (Line) Fitting"
   ]
  },
  {
   "cell_type": "code",
   "execution_count": 43,
   "id": "ad4c553d",
   "metadata": {},
   "outputs": [],
   "source": [
    "from specutils.fitting import fit_lines\n",
    "# Fit the spectrum and calculate the fitted flux values (``y_fit``)\n",
    "g_init= models.Gaussian1D(amplitude=4004.78369140625 * rel_flux, mean=6562.263671875*u.AA, stddev=2.0181450843811035 * u.AA)\n",
    "g_fit = fit_lines(spec, g_init, window=(6556 * u.AA,  6569* u.AA))\n",
    "y_fit = g_fit(lamb)"
   ]
  },
  {
   "cell_type": "code",
   "execution_count": 51,
   "id": "35ad9446",
   "metadata": {},
   "outputs": [
    {
     "data": {
      "image/png": "[encoded data removed]",
      "text/plain": [
       "<Figure size 432x288 with 1 Axes>"
      ]
     },
     "metadata": {
      "needs_background": "light"
     },
     "output_type": "display_data"
    }
   ],
   "source": [
    "plt.plot(wl, Flux)\n",
    "plt.plot(wl, y_fit)\n",
    "plt.xlim(6556,  6569)\n",
    "#plt.title('Single fit peak window')\n",
    "plt.grid(True)"
   ]
  },
  {
   "cell_type": "markdown",
   "id": "23cc300f",
   "metadata": {},
   "source": [
    "### Integrating over the Gaussian"
   ]
  },
  {
   "cell_type": "code",
   "execution_count": 64,
   "id": "619afc17",
   "metadata": {},
   "outputs": [],
   "source": [
    "gauss = Spectrum1D(spectral_axis=lamb, flux=y_fit) \n",
    "sub_gauss = extract_region(gauss, sub_region)\n"
   ]
  },
  {
   "cell_type": "code",
   "execution_count": 67,
   "id": "d1627585",
   "metadata": {},
   "outputs": [
    {
     "data": {
      "text/plain": [
       "(6556.0, 6569.0)"
      ]
     },
     "execution_count": 67,
     "metadata": {},
     "output_type": "execute_result"
    },
    {
     "data": {
      "image/png": "[encoded data removed]",
      "text/plain": [
       "<Figure size 432x288 with 1 Axes>"
      ]
     },
     "metadata": {
      "needs_background": "light"
     },
     "output_type": "display_data"
    }
   ],
   "source": [
    "f, ax = plt.subplots()  \n",
    "ax.plot(sub_gauss.spectral_axis, sub_gauss.flux) \n",
    "plt.xlim(6556,  6569)"
   ]
  },
  {
   "cell_type": "code",
   "execution_count": 69,
   "id": "1a78e4c7",
   "metadata": {},
   "outputs": [],
   "source": [
    " flux_line = np.trapz(sub_gauss.flux, sub_gauss.spectral_axis) "
   ]
  },
  {
   "cell_type": "code",
   "execution_count": 70,
   "id": "472dee4b",
   "metadata": {},
   "outputs": [
    {
     "data": {
      "text/latex": [
       "$21051.951 \\; \\mathrm{\\mathring{A}\\,Relative~flux}$"
      ],
      "text/plain": [
       "<Quantity 21051.95099973 Angstrom Relative~flux>"
      ]
     },
     "execution_count": 70,
     "metadata": {},
     "output_type": "execute_result"
    }
   ],
   "source": [
    " flux_line"
   ]
  },
  {
   "cell_type": "code",
   "execution_count": null,
   "id": "3036da38",
   "metadata": {},
   "outputs": [],
   "source": []
  }
 ],
 "metadata": {
  "kernelspec": {
   "display_name": "Python 3 (ipykernel)",
   "language": "python",
   "name": "python3"
  },
  "language_info": {
   "codemirror_mode": {
    "name": "ipython",
    "version": 3
   },
   "file_extension": ".py",
   "mimetype": "text/x-python",
   "name": "python",
   "nbconvert_exporter": "python",
   "pygments_lexer": "ipython3",
   "version": "3.8.5"
  }
 },
 "nbformat": 4,
 "nbformat_minor": 5
}
