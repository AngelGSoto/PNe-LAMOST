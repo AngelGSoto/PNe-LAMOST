{
 "cells": [
  {
   "cell_type": "code",
   "execution_count": 1,
   "id": "a0be07c9",
   "metadata": {},
   "outputs": [
    {
     "name": "stderr",
     "output_type": "stream",
     "text": [
      "WARNING: AstropyDeprecationWarning: The update_default_config function is deprecated and may be removed in a future version. [astroquery._astropy_init]\n"
     ]
    },
    {
     "name": "stdout",
     "output_type": "stream",
     "text": [
      "Created TAP+ (v1.2.1) - Connection:\n",
      "\tHost: gea.esac.esa.int\n",
      "\tUse HTTPS: True\n",
      "\tPort: 443\n",
      "\tSSL Port: 443\n",
      "Created TAP+ (v1.2.1) - Connection:\n",
      "\tHost: geadata.esac.esa.int\n",
      "\tUse HTTPS: True\n",
      "\tPort: 443\n",
      "\tSSL Port: 443\n"
     ]
    }
   ],
   "source": [
    "from astroquery.gaia import Gaia\n",
    "from astropy.table import Table\n",
    "import pandas as pd"
   ]
  },
  {
   "cell_type": "code",
   "execution_count": 7,
   "id": "b17dce77",
   "metadata": {},
   "outputs": [
    {
     "data": {
      "text/html": [
       "<div><i>Table length=294</i>\n",
       "<table id=\"table140414144229728\" class=\"table-striped table-bordered table-condensed\">\n",
       "<thead><tr><th>recno</th><th>SNR</th><th>RAJ2000</th><th>DEJ2000</th><th>MajDiam</th><th>MinDiam</th><th>u_MinDiam</th><th>type</th><th>l_S(1GHz)</th><th>S(1GHz)</th><th>u_S(1GHz)</th><th>Sp-Index</th><th>u_Sp-Index</th><th>Names</th></tr></thead>\n",
       "<thead><tr><th>int64</th><th>str11</th><th>float64</th><th>float64</th><th>float64</th><th>float64</th><th>str1</th><th>str2</th><th>str1</th><th>float64</th><th>str1</th><th>float64</th><th>str2</th><th>str26</th></tr></thead>\n",
       "<tr><td>1</td><td>G000.0+00.0</td><td>266.4333333333333</td><td>-29.0</td><td>3.5</td><td>2.5</td><td></td><td>S</td><td></td><td>100.0</td><td>?</td><td>0.8</td><td>?</td><td>Sgr A East</td></tr>\n",
       "<tr><td>2</td><td>G000.3+00.0</td><td>266.56249999999994</td><td>-28.63333333333333</td><td>15.0</td><td>8.0</td><td></td><td>S</td><td></td><td>22.0</td><td></td><td>0.6</td><td></td><td></td></tr>\n",
       "<tr><td>3</td><td>G000.9+00.1</td><td>266.8375</td><td>-28.149999999999995</td><td>8.0</td><td>--</td><td></td><td>C</td><td></td><td>18.0</td><td>?</td><td>--</td><td>v</td><td></td></tr>\n",
       "<tr><td>4</td><td>G001.0-00.1</td><td>267.12499999999994</td><td>-28.149999999999995</td><td>8.0</td><td>--</td><td></td><td>S</td><td></td><td>15.0</td><td></td><td>0.6</td><td>?</td><td></td></tr>\n",
       "<tr><td>5</td><td>G001.4-00.1</td><td>267.4125</td><td>-27.766666666666666</td><td>10.0</td><td>--</td><td></td><td>S</td><td></td><td>2.0</td><td>?</td><td>--</td><td>?</td><td></td></tr>\n",
       "<tr><td>6</td><td>G001.9+00.3</td><td>267.18749999999994</td><td>-27.166666666666664</td><td>1.5</td><td>--</td><td></td><td>S</td><td></td><td>0.6</td><td></td><td>0.6</td><td></td><td></td></tr>\n",
       "<tr><td>7</td><td>G003.7-00.2</td><td>268.8583333333333</td><td>-25.83333333333333</td><td>14.0</td><td>11.0</td><td></td><td>S</td><td></td><td>2.3</td><td></td><td>0.65</td><td></td><td></td></tr>\n",
       "<tr><td>8</td><td>G003.8+00.3</td><td>268.22916666666663</td><td>-25.46666666666666</td><td>18.0</td><td>--</td><td></td><td>S?</td><td></td><td>3.0</td><td>?</td><td>0.6</td><td></td><td></td></tr>\n",
       "<tr><td>...</td><td>...</td><td>...</td><td>...</td><td>...</td><td>...</td><td>...</td><td>...</td><td>...</td><td>...</td><td>...</td><td>...</td><td>...</td><td>...</td></tr>\n",
       "<tr><td>287</td><td>G357.7-00.1</td><td>265.1208333333333</td><td>-30.96666666666666</td><td>8.0</td><td>3.0</td><td>?</td><td>?</td><td></td><td>37.0</td><td></td><td>0.4</td><td></td><td>MSH 17-39</td></tr>\n",
       "<tr><td>288</td><td>G357.7+00.3</td><td>264.6458333333333</td><td>-30.73333333333333</td><td>24.0</td><td>--</td><td></td><td>S</td><td></td><td>10.0</td><td></td><td>0.4</td><td>?</td><td></td></tr>\n",
       "<tr><td>289</td><td>G358.0+03.8</td><td>261.49999999999994</td><td>-28.599999999999994</td><td>38.0</td><td>--</td><td></td><td>S</td><td></td><td>1.5</td><td>?</td><td>--</td><td>?</td><td></td></tr>\n",
       "<tr><td>290</td><td>G358.1+01.0</td><td>264.24999999999994</td><td>-29.98333333333333</td><td>20.0</td><td>--</td><td></td><td>S</td><td></td><td>2.0</td><td>?</td><td>--</td><td>?</td><td></td></tr>\n",
       "<tr><td>291</td><td>G358.5-00.9</td><td>266.54166666666663</td><td>-30.66666666666666</td><td>17.0</td><td>--</td><td></td><td>S</td><td></td><td>4.0</td><td>?</td><td>--</td><td>?</td><td></td></tr>\n",
       "<tr><td>292</td><td>G359.0-00.9</td><td>266.7083333333333</td><td>-30.266666666666666</td><td>23.0</td><td>--</td><td></td><td>S</td><td></td><td>23.0</td><td></td><td>0.5</td><td></td><td></td></tr>\n",
       "<tr><td>293</td><td>G359.1-00.5</td><td>266.37499999999994</td><td>-29.95</td><td>24.0</td><td>--</td><td></td><td>S</td><td></td><td>14.0</td><td></td><td>0.4</td><td>?</td><td></td></tr>\n",
       "<tr><td>294</td><td>G359.1+00.9</td><td>264.9</td><td>-29.18333333333333</td><td>12.0</td><td>11.0</td><td></td><td>S</td><td></td><td>2.0</td><td>?</td><td>--</td><td>?</td><td></td></tr>\n",
       "</table></div>"
      ],
      "text/plain": [
       "<Table length=294>\n",
       "recno     SNR          RAJ2000             DEJ2000       MajDiam MinDiam u_MinDiam type l_S(1GHz) S(1GHz) u_S(1GHz) Sp-Index u_Sp-Index   Names   \n",
       "int64    str11         float64             float64       float64 float64    str1   str2    str1   float64    str1   float64     str2      str26   \n",
       "----- ----------- ------------------ ------------------- ------- ------- --------- ---- --------- ------- --------- -------- ---------- ----------\n",
       "    1 G000.0+00.0  266.4333333333333               -29.0     3.5     2.5             S              100.0         ?      0.8         ?  Sgr A East\n",
       "    2 G000.3+00.0 266.56249999999994  -28.63333333333333    15.0     8.0             S               22.0                0.6                      \n",
       "    3 G000.9+00.1           266.8375 -28.149999999999995     8.0      --             C               18.0         ?       --         v            \n",
       "    4 G001.0-00.1 267.12499999999994 -28.149999999999995     8.0      --             S               15.0                0.6         ?            \n",
       "    5 G001.4-00.1           267.4125 -27.766666666666666    10.0      --             S                2.0         ?       --         ?            \n",
       "    6 G001.9+00.3 267.18749999999994 -27.166666666666664     1.5      --             S                0.6                0.6                      \n",
       "    7 G003.7-00.2  268.8583333333333  -25.83333333333333    14.0    11.0             S                2.3               0.65                      \n",
       "    8 G003.8+00.3 268.22916666666663  -25.46666666666666    18.0      --             S?               3.0         ?      0.6                      \n",
       "  ...         ...                ...                 ...     ...     ...       ...  ...       ...     ...       ...      ...        ...        ...\n",
       "  287 G357.7-00.1  265.1208333333333  -30.96666666666666     8.0     3.0         ?   ?               37.0                0.4             MSH 17-39\n",
       "  288 G357.7+00.3  264.6458333333333  -30.73333333333333    24.0      --             S               10.0                0.4         ?            \n",
       "  289 G358.0+03.8 261.49999999999994 -28.599999999999994    38.0      --             S                1.5         ?       --         ?            \n",
       "  290 G358.1+01.0 264.24999999999994  -29.98333333333333    20.0      --             S                2.0         ?       --         ?            \n",
       "  291 G358.5-00.9 266.54166666666663  -30.66666666666666    17.0      --             S                4.0         ?       --         ?            \n",
       "  292 G359.0-00.9  266.7083333333333 -30.266666666666666    23.0      --             S               23.0                0.5                      \n",
       "  293 G359.1-00.5 266.37499999999994              -29.95    24.0      --             S               14.0                0.4         ?            \n",
       "  294 G359.1+00.9              264.9  -29.18333333333333    12.0    11.0             S                2.0         ?       --         ?            "
      ]
     },
     "execution_count": 7,
     "metadata": {},
     "output_type": "execute_result"
    }
   ],
   "source": [
    "df = pd.read_csv(\"data/TAP_4_VII_284_snrs.csv\")\n",
    "table = Table.from_pandas(df)\n",
    "table"
   ]
  },
  {
   "cell_type": "code",
   "execution_count": 8,
   "id": "4a880eb9",
   "metadata": {},
   "outputs": [
    {
     "name": "stdout",
     "output_type": "stream",
     "text": [
      "User: lgutierr\n",
      "········\n",
      "OK\n"
     ]
    }
   ],
   "source": [
    "Gaia.login()"
   ]
  },
  {
   "cell_type": "code",
   "execution_count": 9,
   "id": "450c34d4",
   "metadata": {},
   "outputs": [
    {
     "name": "stdout",
     "output_type": "stream",
     "text": [
      "Sending pytable.\n"
     ]
    },
    {
     "name": "stderr",
     "output_type": "stream",
     "text": [
      "WARNING: W03: ?:?:?: W03: Implicitly generating an ID from a name 'l_S(1GHz)' -> 'l_S_1GHz_' [astropy.io.votable.xmlutil]\n",
      "WARNING: W03: ?:?:?: W03: Implicitly generating an ID from a name 'S(1GHz)' -> 'S_1GHz_' [astropy.io.votable.xmlutil]\n",
      "WARNING: W03: ?:?:?: W03: Implicitly generating an ID from a name 'u_S(1GHz)' -> 'u_S_1GHz_' [astropy.io.votable.xmlutil]\n"
     ]
    },
    {
     "name": "stdout",
     "output_type": "stream",
     "text": [
      "Uploaded table 'my_sources'.\n"
     ]
    }
   ],
   "source": [
    "Gaia.upload_table(upload_resource=table, table_name='my_sources')"
   ]
  },
  {
   "cell_type": "code",
   "execution_count": 12,
   "id": "088f129c",
   "metadata": {},
   "outputs": [],
   "source": [
    "full_qualified_table_name = 'user_lgutierr.my_sources'"
   ]
  },
  {
   "cell_type": "code",
   "execution_count": 13,
   "id": "df4401f8",
   "metadata": {},
   "outputs": [],
   "source": [
    "xmatch_table_name = 'xmatch_table'"
   ]
  },
  {
   "cell_type": "code",
   "execution_count": 14,
   "id": "20147d22",
   "metadata": {},
   "outputs": [
    {
     "name": "stdout",
     "output_type": "stream",
     "text": [
      "500 Error 500:\n",
      "null\n"
     ]
    },
    {
     "ename": "HTTPError",
     "evalue": "Error 500:\nnull",
     "output_type": "error",
     "traceback": [
      "\u001b[0;31m---------------------------------------------------------------------------\u001b[0m",
      "\u001b[0;31mHTTPError\u001b[0m                                 Traceback (most recent call last)",
      "\u001b[0;32m/tmp/ipykernel_34135/1281025343.py\u001b[0m in \u001b[0;36m<module>\u001b[0;34m\u001b[0m\n\u001b[0;32m----> 1\u001b[0;31m Gaia.cross_match(full_qualified_table_name_a=full_qualified_table_name,\n\u001b[0m\u001b[1;32m      2\u001b[0m                 \u001b[0mfull_qualified_table_name_b\u001b[0m\u001b[0;34m=\u001b[0m\u001b[0;34m'gaiadr2.gaia_source'\u001b[0m\u001b[0;34m,\u001b[0m\u001b[0;34m\u001b[0m\u001b[0;34m\u001b[0m\u001b[0m\n\u001b[1;32m      3\u001b[0m                  results_table_name=xmatch_table_name, radius=1.0)\n",
      "\u001b[0;32m~/anaconda3/lib/python3.8/site-packages/astroquery/gaia/core.py\u001b[0m in \u001b[0;36mcross_match\u001b[0;34m(self, full_qualified_table_name_a, full_qualified_table_name_b, results_table_name, radius, background, verbose)\u001b[0m\n\u001b[1;32m    586\u001b[0m             \u001b[0mFROM\u001b[0m \u001b[0mdual\u001b[0m\u001b[0;34m;\u001b[0m\u001b[0;31m\"\u001b[0m\u001b[0;34m\u001b[0m\u001b[0;34m\u001b[0m\u001b[0m\n\u001b[1;32m    587\u001b[0m         \u001b[0mname\u001b[0m \u001b[0;34m=\u001b[0m \u001b[0mstr\u001b[0m\u001b[0;34m(\u001b[0m\u001b[0mresults_table_name\u001b[0m\u001b[0;34m)\u001b[0m\u001b[0;34m\u001b[0m\u001b[0;34m\u001b[0m\u001b[0m\n\u001b[0;32m--> 588\u001b[0;31m         return self.launch_job_async(query=query,\n\u001b[0m\u001b[1;32m    589\u001b[0m                                      \u001b[0mname\u001b[0m\u001b[0;34m=\u001b[0m\u001b[0mname\u001b[0m\u001b[0;34m,\u001b[0m\u001b[0;34m\u001b[0m\u001b[0;34m\u001b[0m\u001b[0m\n\u001b[1;32m    590\u001b[0m                                      \u001b[0moutput_file\u001b[0m\u001b[0;34m=\u001b[0m\u001b[0;32mNone\u001b[0m\u001b[0;34m,\u001b[0m\u001b[0;34m\u001b[0m\u001b[0;34m\u001b[0m\u001b[0m\n",
      "\u001b[0;32m~/anaconda3/lib/python3.8/site-packages/astroquery/utils/tap/core.py\u001b[0m in \u001b[0;36mlaunch_job_async\u001b[0;34m(self, query, name, output_file, output_format, verbose, dump_to_file, background, upload_resource, upload_table_name, autorun)\u001b[0m\n\u001b[1;32m    441\u001b[0m                         \u001b[0mjob\u001b[0m\u001b[0;34m.\u001b[0m\u001b[0msave_results\u001b[0m\u001b[0;34m(\u001b[0m\u001b[0mverbose\u001b[0m\u001b[0;34m)\u001b[0m\u001b[0;34m\u001b[0m\u001b[0;34m\u001b[0m\u001b[0m\n\u001b[1;32m    442\u001b[0m                     \u001b[0;32melse\u001b[0m\u001b[0;34m:\u001b[0m\u001b[0;34m\u001b[0m\u001b[0;34m\u001b[0m\u001b[0m\n\u001b[0;32m--> 443\u001b[0;31m                         \u001b[0mjob\u001b[0m\u001b[0;34m.\u001b[0m\u001b[0mget_results\u001b[0m\u001b[0;34m(\u001b[0m\u001b[0;34m)\u001b[0m\u001b[0;34m\u001b[0m\u001b[0;34m\u001b[0m\u001b[0m\n\u001b[0m\u001b[1;32m    444\u001b[0m                         \u001b[0mlog\u001b[0m\u001b[0;34m.\u001b[0m\u001b[0minfo\u001b[0m\u001b[0;34m(\u001b[0m\u001b[0;34m\"Query finished.\"\u001b[0m\u001b[0;34m)\u001b[0m\u001b[0;34m\u001b[0m\u001b[0;34m\u001b[0m\u001b[0m\n\u001b[1;32m    445\u001b[0m         \u001b[0;32mreturn\u001b[0m \u001b[0mjob\u001b[0m\u001b[0;34m\u001b[0m\u001b[0;34m\u001b[0m\u001b[0m\n",
      "\u001b[0;32m~/anaconda3/lib/python3.8/site-packages/astroquery/utils/tap/model/job.py\u001b[0m in \u001b[0;36mget_results\u001b[0;34m(self)\u001b[0m\n\u001b[1;32m    245\u001b[0m         \u001b[0;32melse\u001b[0m\u001b[0;34m:\u001b[0m\u001b[0;34m\u001b[0m\u001b[0;34m\u001b[0m\u001b[0m\n\u001b[1;32m    246\u001b[0m             \u001b[0;31m# async: result is in the server once the job is finished\u001b[0m\u001b[0;34m\u001b[0m\u001b[0;34m\u001b[0m\u001b[0;34m\u001b[0m\u001b[0m\n\u001b[0;32m--> 247\u001b[0;31m             \u001b[0mself\u001b[0m\u001b[0;34m.\u001b[0m\u001b[0m__load_async_job_results\u001b[0m\u001b[0;34m(\u001b[0m\u001b[0;34m)\u001b[0m\u001b[0;34m\u001b[0m\u001b[0;34m\u001b[0m\u001b[0m\n\u001b[0m\u001b[1;32m    248\u001b[0m             \u001b[0;32mreturn\u001b[0m \u001b[0mself\u001b[0m\u001b[0;34m.\u001b[0m\u001b[0mresults\u001b[0m\u001b[0;34m\u001b[0m\u001b[0;34m\u001b[0m\u001b[0m\n\u001b[1;32m    249\u001b[0m \u001b[0;34m\u001b[0m\u001b[0m\n",
      "\u001b[0;32m~/anaconda3/lib/python3.8/site-packages/astroquery/utils/tap/model/job.py\u001b[0m in \u001b[0;36m__load_async_job_results\u001b[0;34m(self, debug)\u001b[0m\n\u001b[1;32m    339\u001b[0m         resultsResponse = self.__handle_redirect_if_required(resultsResponse,\n\u001b[1;32m    340\u001b[0m                                                              debug)\n\u001b[0;32m--> 341\u001b[0;31m         \u001b[0misError\u001b[0m \u001b[0;34m=\u001b[0m \u001b[0mself\u001b[0m\u001b[0;34m.\u001b[0m\u001b[0mconnHandler\u001b[0m\u001b[0;34m.\u001b[0m\u001b[0;31m\\\u001b[0m\u001b[0;34m\u001b[0m\u001b[0;34m\u001b[0m\u001b[0m\n\u001b[0m\u001b[1;32m    342\u001b[0m             check_launch_response_status(resultsResponse,\n\u001b[1;32m    343\u001b[0m                                          \u001b[0mdebug\u001b[0m\u001b[0;34m,\u001b[0m\u001b[0;34m\u001b[0m\u001b[0;34m\u001b[0m\u001b[0m\n",
      "\u001b[0;32m~/anaconda3/lib/python3.8/site-packages/astroquery/utils/tap/conn/tapconn.py\u001b[0m in \u001b[0;36mcheck_launch_response_status\u001b[0;34m(self, response, debug, expected_response_status, raise_exception)\u001b[0m\n\u001b[1;32m    633\u001b[0m             \u001b[0merrMsg\u001b[0m \u001b[0;34m=\u001b[0m \u001b[0mtaputils\u001b[0m\u001b[0;34m.\u001b[0m\u001b[0mget_http_response_error\u001b[0m\u001b[0;34m(\u001b[0m\u001b[0mresponse\u001b[0m\u001b[0;34m)\u001b[0m\u001b[0;34m\u001b[0m\u001b[0;34m\u001b[0m\u001b[0m\n\u001b[1;32m    634\u001b[0m             \u001b[0mprint\u001b[0m\u001b[0;34m(\u001b[0m\u001b[0mresponse\u001b[0m\u001b[0;34m.\u001b[0m\u001b[0mstatus\u001b[0m\u001b[0;34m,\u001b[0m \u001b[0merrMsg\u001b[0m\u001b[0;34m)\u001b[0m\u001b[0;34m\u001b[0m\u001b[0;34m\u001b[0m\u001b[0m\n\u001b[0;32m--> 635\u001b[0;31m             \u001b[0;32mraise\u001b[0m \u001b[0mrequests\u001b[0m\u001b[0;34m.\u001b[0m\u001b[0mexceptions\u001b[0m\u001b[0;34m.\u001b[0m\u001b[0mHTTPError\u001b[0m\u001b[0;34m(\u001b[0m\u001b[0merrMsg\u001b[0m\u001b[0;34m)\u001b[0m\u001b[0;34m\u001b[0m\u001b[0;34m\u001b[0m\u001b[0m\n\u001b[0m\u001b[1;32m    636\u001b[0m         \u001b[0;32melse\u001b[0m\u001b[0;34m:\u001b[0m\u001b[0;34m\u001b[0m\u001b[0;34m\u001b[0m\u001b[0m\n\u001b[1;32m    637\u001b[0m             \u001b[0;32mreturn\u001b[0m \u001b[0misError\u001b[0m\u001b[0;34m\u001b[0m\u001b[0;34m\u001b[0m\u001b[0m\n",
      "\u001b[0;31mHTTPError\u001b[0m: Error 500:\nnull"
     ]
    }
   ],
   "source": [
    "Gaia.cross_match(full_qualified_table_name_a=full_qualified_table_name,\n",
    "                full_qualified_table_name_b='gaiadr2.gaia_source', \n",
    "                 results_table_name=xmatch_table_name, radius=1.0)"
   ]
  },
  {
   "cell_type": "code",
   "execution_count": null,
   "id": "93b6e9a5",
   "metadata": {},
   "outputs": [],
   "source": []
  }
 ],
 "metadata": {
  "kernelspec": {
   "display_name": "Python 3 (ipykernel)",
   "language": "python",
   "name": "python3"
  },
  "language_info": {
   "codemirror_mode": {
    "name": "ipython",
    "version": 3
   },
   "file_extension": ".py",
   "mimetype": "text/x-python",
   "name": "python",
   "nbconvert_exporter": "python",
   "pygments_lexer": "ipython3",
   "version": "3.8.5"
  }
 },
 "nbformat": 4,
 "nbformat_minor": 5
}
