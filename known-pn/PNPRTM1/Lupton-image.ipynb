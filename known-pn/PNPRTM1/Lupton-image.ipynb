{
 "cells": [
  {
   "cell_type": "code",
   "execution_count": 39,
   "id": "db954fd4",
   "metadata": {},
   "outputs": [],
   "source": [
    "from __future__ import print_function\n",
    "import numpy as np\n",
    "import os\n",
    "import glob\n",
    "import json\n",
    "import matplotlib.pyplot as plt\n",
    "from astropy.io import fits\n",
    "from astropy.table import Table\n",
    "from astropy.visualization import make_lupton_rgb\n",
    "import aplpy\n",
    "from astropy.visualization import SqrtStretch\n",
    "from astropy.visualization import ZScaleInterval\n",
    "from scipy.ndimage import gaussian_filter\n",
    "from spectral_cube import SpectralCube\n",
    "from matplotlib.colors import LogNorm\n",
    "from reproject import reproject_interp"
   ]
  },
  {
   "cell_type": "code",
   "execution_count": 40,
   "id": "1b07e851",
   "metadata": {},
   "outputs": [],
   "source": [
    "def RGB_lupton(x, rgb_q=15, rgb_stretch=0.5, rgb_min=0):\n",
    "    if x.ndim==3:\n",
    "        x = make_lupton_rgb(x[:,:,2], x[:,:,1], x[:,:,0],\n",
    "                      Q=rgb_q, stretch=rgb_stretch, minimum=rgb_min)\n",
    "    elif x.ndim==4:\n",
    "        x = np.array([make_lupton_rgb(xi[:,:,2], xi[:,:,1], xi[:,:,0],\n",
    "                      Q=rgb_q, stretch=rgb_stretch, minimum=rgb_min)\n",
    "                      for xi in x])\n",
    "    else:\n",
    "        raise ValueError(f\"Wrong number of dimensions! Gave {x.ndim}, need 3 or 4\")\n",
    "    return x"
   ]
  },
  {
   "cell_type": "code",
   "execution_count": 41,
   "id": "f1e2365a",
   "metadata": {},
   "outputs": [],
   "source": [
    "fits_dir = '../data/fits_files'\n",
    "fits_fns = ['dss_search_blue.gzip',\n",
    "            'dss_search_red.gzip',\n",
    "            'dss_search_IR.gzip'\n",
    "            ]"
   ]
  },
  {
   "cell_type": "code",
   "execution_count": 42,
   "id": "1440aadb",
   "metadata": {},
   "outputs": [],
   "source": [
    "data = []\n",
    "for fits_fn in fits_fns:\n",
    "  hdul = fits.open(f'{fits_fn}')\n",
    "  data.append(hdul[0].data)"
   ]
  },
  {
   "cell_type": "code",
   "execution_count": 43,
   "id": "9109296c",
   "metadata": {},
   "outputs": [
    {
     "data": {
      "text/plain": [
       "[array([[3742, 3523, 3815, ..., 3856, 3710, 3710],\n",
       "        [4035, 4108, 3815, ..., 3856, 3710, 3710],\n",
       "        [4108, 4108, 4108, ..., 4003, 4003, 4003],\n",
       "        ...,\n",
       "        [4115, 3968, 3968, ..., 3845, 4138, 3845],\n",
       "        [3822, 3676, 3676, ..., 4138, 4430, 4138],\n",
       "        [3968, 3822, 3530, ..., 4576, 4576, 4284]], dtype=int16),\n",
       " array([[4579, 4579, 4369, ..., 4895, 4895, 5105],\n",
       "        [4737, 4527, 4527, ..., 4790, 5000, 5000],\n",
       "        [4737, 4737, 4737, ..., 4790, 4790, 4790],\n",
       "        ...,\n",
       "        [4635, 4635, 4635, ..., 4892, 4971, 4971],\n",
       "        [4530, 4845, 4425, ..., 4892, 4761, 4761],\n",
       "        [4740, 4845, 4425, ..., 4682, 4761, 4761]], dtype=int16),\n",
       " array([[3423, 3348, 3498, ..., 3247, 3210, 3210],\n",
       "        [3423, 3348, 3498, ..., 3247, 3360, 3360],\n",
       "        [3348, 3348, 3498, ..., 3397, 3435, 3435],\n",
       "        ...,\n",
       "        [3226, 3226, 3226, ..., 3327, 3402, 3402],\n",
       "        [3376, 3226, 3226, ..., 3477, 3552, 3252],\n",
       "        [3489, 3414, 3414, ..., 3590, 3290, 3290]], dtype=int16)]"
      ]
     },
     "execution_count": 43,
     "metadata": {},
     "output_type": "execute_result"
    }
   ],
   "source": [
    "data"
   ]
  },
  {
   "cell_type": "code",
   "execution_count": 44,
   "id": "d79c283a",
   "metadata": {},
   "outputs": [
    {
     "name": "stdout",
     "output_type": "stream",
     "text": [
      "(41, 41)\n",
      "(69, 69)\n",
      "(69, 69)\n"
     ]
    },
    {
     "name": "stderr",
     "output_type": "stream",
     "text": [
      "/tmp/ipykernel_744974/3197391715.py:1: VisibleDeprecationWarning: Creating an ndarray from ragged nested sequences (which is a list-or-tuple of lists-or-tuples-or ndarrays with different lengths or shapes) is deprecated. If you meant to do this, you must specify 'dtype=object' when creating the ndarray.\n",
      "  data = np.array(data)\n"
     ]
    }
   ],
   "source": [
    "data = np.array(data)\n",
    "print(data[0].shape)\n",
    "print(data[1].shape)\n",
    "print(data[2].shape)"
   ]
  },
  {
   "cell_type": "code",
   "execution_count": null,
   "id": "bab5843c",
   "metadata": {},
   "outputs": [],
   "source": []
  },
  {
   "cell_type": "code",
   "execution_count": 50,
   "id": "f5ae55e7",
   "metadata": {},
   "outputs": [],
   "source": [
    "#image = make_lupton_rgb(data[2], data[1], data[0], stretch=80, Q=1)"
   ]
  },
  {
   "cell_type": "code",
   "execution_count": 53,
   "id": "079f1243",
   "metadata": {},
   "outputs": [],
   "source": [
    "hdul_blue = fits.open(\"dss_search_blue.gzip\")[0]\n",
    "hdul_red = fits.open(\"dss_search_blue.gzip\")[0]\n",
    "hdul_IR = fits.open(\"dss_search_blue.gzip\")"
   ]
  },
  {
   "cell_type": "code",
   "execution_count": 55,
   "id": "400a3e53",
   "metadata": {},
   "outputs": [],
   "source": [
    "array, footprint = reproject_interp(hdul_red, hdul_blue.header)"
   ]
  },
  {
   "cell_type": "code",
   "execution_count": 57,
   "id": "d13d583d",
   "metadata": {},
   "outputs": [
    {
     "data": {
      "text/plain": [
       "(41, 41)"
      ]
     },
     "execution_count": 57,
     "metadata": {},
     "output_type": "execute_result"
    }
   ],
   "source": [
    "array.shape"
   ]
  },
  {
   "cell_type": "code",
   "execution_count": null,
   "id": "672ba900",
   "metadata": {},
   "outputs": [],
   "source": []
  }
 ],
 "metadata": {
  "kernelspec": {
   "display_name": "Python 3 (ipykernel)",
   "language": "python",
   "name": "python3"
  },
  "language_info": {
   "codemirror_mode": {
    "name": "ipython",
    "version": 3
   },
   "file_extension": ".py",
   "mimetype": "text/x-python",
   "name": "python",
   "nbconvert_exporter": "python",
   "pygments_lexer": "ipython3",
   "version": "3.8.5"
  }
 },
 "nbformat": 4,
 "nbformat_minor": 5
}
